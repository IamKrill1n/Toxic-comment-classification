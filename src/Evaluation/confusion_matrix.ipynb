{
 "cells": [
  {
   "cell_type": "code",
   "execution_count": 89,
   "metadata": {},
   "outputs": [],
   "source": [
    "# quick and dirty way to change the current working directory to root (/toxic-comment-classification)\n",
    "# you should run this at least once just to be certain\n",
    "import os\n",
    "from os import chdir, path, getcwd\n",
    "for i in range(10):\n",
    "    if path.isfile(\"checkcwd\"):\n",
    "        break\n",
    "    chdir(path.pardir)\n",
    "if path.isfile(\"checkcwd\"):\n",
    "    pass\n",
    "else:\n",
    "    raise Exception(\"Something went wrong. cwd=\" + getcwd())\n",
    "root_path = os.getcwd()"
   ]
  },
  {
   "cell_type": "code",
   "execution_count": 90,
   "metadata": {},
   "outputs": [],
   "source": [
    "import numpy as np\n",
    "import pandas as pd\n",
    "from gc import collect\n"
   ]
  },
  {
   "cell_type": "code",
   "execution_count": 91,
   "metadata": {},
   "outputs": [],
   "source": [
    "def read_from_file(filename):\n",
    "    with open(filename, 'r') as f:\n",
    "        return pd.Series(f.read().splitlines())"
   ]
  },
  {
   "cell_type": "code",
   "execution_count": 92,
   "metadata": {},
   "outputs": [],
   "source": [
    "path = 'kaggle/input/'\n",
    "comp = 'jigsaw-toxic-comment-classification-challenge/'\n",
    "\n",
    "clean_data_path = 'clean_data/'\n",
    "EMBEDDING_FILE=f'{path}glove_embeddings/glove.6B.300d.txt'\n",
    "TRAIN_DATA_FILE=f'{path}{comp}train.csv.zip'\n",
    "TEST_DATA_FILE=f'{path}{comp}test.csv.zip'\n",
    "CLEAN_TRAIN_DATA_FILE=f'{clean_data_path}data_train_cleaned_light2.txt'\n",
    "CLEAN_TEST_DATA_FILE=f'{clean_data_path}data_test_cleaned_light2.txt'\n",
    "SAMPLE_SUBMISSION=f'{path}{comp}sample_submission.csv.zip'\n",
    "REAL_LABEL = f'{clean_data_path}labels.csv'\n",
    "PREDICT_PATH = 'kaggle/working/k-fold/'\n",
    "# 2 tốt nhất trong 3\n",
    "# 4 \n",
    "# trong 5,6 thì chọn 6\n",
    "# 7, 8 \n",
    "# 9\n",
    "labels = [\"toxic\", \"severe_toxic\", \"obscene\", \"threat\", \"insult\", \"identity_hate\"]"
   ]
  },
  {
   "cell_type": "code",
   "execution_count": 93,
   "metadata": {},
   "outputs": [
    {
     "data": {
      "text/plain": [
       "(159571, 6)"
      ]
     },
     "execution_count": 93,
     "metadata": {},
     "output_type": "execute_result"
    }
   ],
   "source": [
    "real = pd.read_csv(REAL_LABEL).values\n",
    "real.shape"
   ]
  },
  {
   "cell_type": "code",
   "execution_count": 94,
   "metadata": {},
   "outputs": [
    {
     "data": {
      "text/plain": [
       "(159571, 6)"
      ]
     },
     "execution_count": 94,
     "metadata": {},
     "output_type": "execute_result"
    }
   ],
   "source": [
    "def return_predict(file_name ,predict_path = PREDICT_PATH):\n",
    "    \n",
    "    file_path = PREDICT_PATH + file_name\n",
    "    y = pd.read_csv(file_path)\n",
    "    \n",
    "    y = y.round(0)\n",
    "    \n",
    "    y = y[labels]\n",
    "    return y\n"
   ]
  },
  {
   "cell_type": "code",
   "execution_count": 95,
   "metadata": {},
   "outputs": [],
   "source": [
    "from sklearn.metrics import multilabel_confusion_matrix\n",
    "import matplotlib.pyplot as plt\n",
    "import seaborn as sns"
   ]
  },
  {
   "cell_type": "code",
   "execution_count": 97,
   "metadata": {},
   "outputs": [],
   "source": [
    "def draw(predict, real):\n",
    "    indices = [f'Actual{label}' for label in labels]\n",
    "    mcm = multilabel_confusion_matrix(real, predict)\n",
    "\n",
    "    ''' for each label, we get Precision, Recall, F1 Score '''\n",
    "    for cm in mcm:\n",
    "        TP, FN, FP, TN = cm[0,0], cm[0,1], cm[1,0], cm[1,1]\n",
    "        Precision = TP/(TP + FP)\n",
    "        Recall = TP/(TP + FN)\n",
    "        F1 = 2*(Precision*Recall)/(Precision + Recall)\n",
    "        print({'Precision':Precision, 'Recall':Recall, 'F1':F1})\n"
   ]
  },
  {
   "cell_type": "code",
   "execution_count": 100,
   "metadata": {},
   "outputs": [
    {
     "name": "stdout",
     "output_type": "stream",
     "text": [
      "LSTM\n",
      "{'Precision': 0.9741876292330234, 'Recall': 0.986186294419762, 'F1': 0.9801502423096395}\n",
      "{'Precision': 0.9920376356935308, 'Recall': 0.9984554615891021, 'F1': 0.9952362023383622}\n",
      "{'Precision': 0.9884749025839162, 'Recall': 0.992052778549781, 'F1': 0.9902606088027716}\n",
      "{'Precision': 0.9971541759646967, 'Recall': 0.9999057155248817, 'F1': 0.998528050215771}\n",
      "{'Precision': 0.984642254482899, 'Recall': 0.988582277479663, 'F1': 0.9866083323738877}\n",
      "{'Precision': 0.9945389266817838, 'Recall': 0.9982739653275673, 'F1': 0.9964029457980728}\n",
      "\n",
      "hybrid LSTM + GRU + feature\n",
      "{'Precision': 0.9787994909111031, 'Recall': 0.9808008206436231, 'F1': 0.9797991338034753}\n",
      "{'Precision': 0.9938769970773708, 'Recall': 0.9966640502354788, 'F1': 0.9952685725122079}\n",
      "{'Precision': 0.9912312121091522, 'Recall': 0.9888699196675533, 'F1': 0.9900491579547112}\n",
      "{'Precision': 0.9979905177556595, 'Recall': 0.9989440138786747, 'F1': 0.998467038179545}\n",
      "{'Precision': 0.988107056347536, 'Recall': 0.9842248210212665, 'F1': 0.9861621178895084}\n",
      "{'Precision': 0.9955502537302128, 'Recall': 0.9972497249724972, 'F1': 0.9963992646919476}\n",
      "\n",
      "NBSVM\n",
      "{'Precision': 0.9668168838726267, 'Recall': 0.9903310992050015, 'F1': 0.9784327354029781}\n",
      "{'Precision': 0.9919739846398672, 'Recall': 0.9982972097027396, 'F1': 0.9951255525162561}\n",
      "{'Precision': 0.9850424550552964, 'Recall': 0.9948849274096425, 'F1': 0.9899392271377496}\n",
      "{'Precision': 0.9976598427765683, 'Recall': 0.9995285776244084, 'F1': 0.9985933359289634}\n",
      "{'Precision': 0.9782775430614234, 'Recall': 0.9921816288053582, 'F1': 0.9851805304636976}\n",
      "{'Precision': 0.9935599509449389, 'Recall': 0.9988303428043954, 'F1': 0.9961881760942836}\n",
      "\n",
      "SVM\n",
      "{'Precision': 0.9669692010117542, 'Recall': 0.9909964859263777, 'F1': 0.9788354173869288}\n",
      "{'Precision': 0.9918134832308447, 'Recall': 0.9985061021927382, 'F1': 0.995148540461425}\n",
      "{'Precision': 0.9846094399800905, 'Recall': 0.994831990047776, 'F1': 0.9896943185446311}\n",
      "{'Precision': 0.9977223100670131, 'Recall': 0.9994720069393374, 'F1': 0.9985963920682022}\n",
      "{'Precision': 0.9779889327652499, 'Recall': 0.9926496763220695, 'F1': 0.9852647695820874}\n",
      "{'Precision': 0.9937412330085484, 'Recall': 0.998836665275723, 'F1': 0.9962824341070118}\n",
      "\n",
      "Naive Bayes\n",
      "{'Precision': 0.9547278204307955, 'Recall': 0.9929164038620154, 'F1': 0.9734477193578528}\n",
      "{'Precision': 0.9949662408469903, 'Recall': 0.9934483719045931, 'F1': 0.9942067270383357}\n",
      "{'Precision': 0.976876059576624, 'Recall': 0.9951760828999087, 'F1': 0.985941162009342}\n",
      "{'Precision': 0.9977570868516284, 'Recall': 0.9982274518677755, 'F1': 0.9979922139376173}\n",
      "{'Precision': 0.9763884831369494, 'Recall': 0.991456484765383, 'F1': 0.9838647952925629}\n",
      "{'Precision': 0.9932460528471163, 'Recall': 0.9967376047949622, 'F1': 0.9949887657468883}\n",
      "\n",
      "Logistic Regression\n",
      "{'Precision': 0.9839002202294417, 'Recall': 0.9475453467981729, 'F1': 0.9653806364596096}\n",
      "{'Precision': 0.9990732895572971, 'Recall': 0.955410948498506, 'F1': 0.9767544200253682}\n",
      "{'Precision': 0.9944087166673493, 'Recall': 0.9638503990153651, 'F1': 0.978891129032258}\n",
      "{'Precision': 0.9992559224550537, 'Recall': 0.9369802568309102, 'F1': 0.9671165954630828}\n",
      "{'Precision': 0.9929739308607107, 'Recall': 0.9456339736574947, 'F1': 0.9687259417334108}\n",
      "{'Precision': 0.9989628735858137, 'Recall': 0.9317425995473111, 'F1': 0.9641825515474878}\n",
      "\n"
     ]
    }
   ],
   "source": [
    "predicts = [return_predict(f'{i}_oof.csv') for i in [2,4,6,7,8,9]]\n",
    "for i in range(len(predicts)):\n",
    "    if (i == 0):\n",
    "        print('LSTM')\n",
    "    elif(i==1):\n",
    "        print('hybrid LSTM + GRU + feature')\n",
    "    elif(i==2):\n",
    "        print('NBSVM')\n",
    "    elif(i==3):\n",
    "        print('SVM')\n",
    "    elif(i==4):\n",
    "        print('Naive Bayes')\n",
    "    else:\n",
    "        print('Logistic Regression')\n",
    "    draw(predict=predicts[i], real=real)\n",
    "    print()"
   ]
  },
  {
   "cell_type": "code",
   "execution_count": null,
   "metadata": {},
   "outputs": [],
   "source": [
    ","
   ]
  }
 ],
 "metadata": {
  "kernelspec": {
   "display_name": "base",
   "language": "python",
   "name": "python3"
  },
  "language_info": {
   "codemirror_mode": {
    "name": "ipython",
    "version": 3
   },
   "file_extension": ".py",
   "mimetype": "text/x-python",
   "name": "python",
   "nbconvert_exporter": "python",
   "pygments_lexer": "ipython3",
   "version": "3.12.1"
  }
 },
 "nbformat": 4,
 "nbformat_minor": 2
}
