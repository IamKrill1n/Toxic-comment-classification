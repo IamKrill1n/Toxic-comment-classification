{
 "cells": [
  {
   "cell_type": "code",
   "execution_count": 1,
   "metadata": {},
   "outputs": [],
   "source": [
    "import pandas as pd\n",
    "import numpy as np\n",
    "import re"
   ]
  },
  {
   "cell_type": "code",
   "execution_count": 2,
   "metadata": {},
   "outputs": [],
   "source": [
    "def write_to_file(data, filename):\n",
    "    with open(filename, 'w') as f:\n",
    "        for line in data:\n",
    "            f.write(line + '\\n')\n",
    "\n",
    "def read_from_file(filename):\n",
    "    with open(filename, 'r') as f:\n",
    "        lines = f.read().splitlines()\n",
    "        \n",
    "        return np.array(lines)\n",
    "    "
   ]
  },
  {
   "cell_type": "code",
   "execution_count": 3,
   "metadata": {},
   "outputs": [],
   "source": [
    "train = pd.read_csv(\"D:\\\\ky4\\\\MachineLearning\\\\Project\\\\train.csv\").fillna('')"
   ]
  },
  {
   "cell_type": "code",
   "execution_count": 4,
   "metadata": {},
   "outputs": [],
   "source": [
    "comment_train = read_from_file(\"D:\\\\ky4\\\\MachineLearning\\\\MLP\\\\Toxic-comment-classification\\\\clean_data\\\\data_train_cleaned_vanilla.txt\")\n",
    "train = train[:100]\n"
   ]
  },
  {
   "cell_type": "code",
   "execution_count": 5,
   "metadata": {},
   "outputs": [
    {
     "data": {
      "text/html": [
       "<div>\n",
       "<style scoped>\n",
       "    .dataframe tbody tr th:only-of-type {\n",
       "        vertical-align: middle;\n",
       "    }\n",
       "\n",
       "    .dataframe tbody tr th {\n",
       "        vertical-align: top;\n",
       "    }\n",
       "\n",
       "    .dataframe thead th {\n",
       "        text-align: right;\n",
       "    }\n",
       "</style>\n",
       "<table border=\"1\" class=\"dataframe\">\n",
       "  <thead>\n",
       "    <tr style=\"text-align: right;\">\n",
       "      <th></th>\n",
       "      <th>id</th>\n",
       "      <th>comment_text</th>\n",
       "      <th>toxic</th>\n",
       "      <th>severe_toxic</th>\n",
       "      <th>obscene</th>\n",
       "      <th>threat</th>\n",
       "      <th>insult</th>\n",
       "      <th>identity_hate</th>\n",
       "    </tr>\n",
       "  </thead>\n",
       "  <tbody>\n",
       "    <tr>\n",
       "      <th>0</th>\n",
       "      <td>0000997932d777bf</td>\n",
       "      <td>explanation why the edits made under my userna...</td>\n",
       "      <td>0</td>\n",
       "      <td>0</td>\n",
       "      <td>0</td>\n",
       "      <td>0</td>\n",
       "      <td>0</td>\n",
       "      <td>0</td>\n",
       "    </tr>\n",
       "    <tr>\n",
       "      <th>1</th>\n",
       "      <td>000103f0d9cfb60f</td>\n",
       "      <td>daww he matches this background colour i am se...</td>\n",
       "      <td>0</td>\n",
       "      <td>0</td>\n",
       "      <td>0</td>\n",
       "      <td>0</td>\n",
       "      <td>0</td>\n",
       "      <td>0</td>\n",
       "    </tr>\n",
       "    <tr>\n",
       "      <th>2</th>\n",
       "      <td>000113f07ec002fd</td>\n",
       "      <td>hey man i am really not trying to edit war it ...</td>\n",
       "      <td>0</td>\n",
       "      <td>0</td>\n",
       "      <td>0</td>\n",
       "      <td>0</td>\n",
       "      <td>0</td>\n",
       "      <td>0</td>\n",
       "    </tr>\n",
       "    <tr>\n",
       "      <th>3</th>\n",
       "      <td>0001b41b1c6bb37e</td>\n",
       "      <td>more i cannot make any real suggestions on imp...</td>\n",
       "      <td>0</td>\n",
       "      <td>0</td>\n",
       "      <td>0</td>\n",
       "      <td>0</td>\n",
       "      <td>0</td>\n",
       "      <td>0</td>\n",
       "    </tr>\n",
       "    <tr>\n",
       "      <th>4</th>\n",
       "      <td>0001d958c54c6e35</td>\n",
       "      <td>you sir are my hero any chance you remember wh...</td>\n",
       "      <td>0</td>\n",
       "      <td>0</td>\n",
       "      <td>0</td>\n",
       "      <td>0</td>\n",
       "      <td>0</td>\n",
       "      <td>0</td>\n",
       "    </tr>\n",
       "    <tr>\n",
       "      <th>...</th>\n",
       "      <td>...</td>\n",
       "      <td>...</td>\n",
       "      <td>...</td>\n",
       "      <td>...</td>\n",
       "      <td>...</td>\n",
       "      <td>...</td>\n",
       "      <td>...</td>\n",
       "      <td>...</td>\n",
       "    </tr>\n",
       "    <tr>\n",
       "      <th>95</th>\n",
       "      <td>003b9f448ee4a29d</td>\n",
       "      <td>thanks i can see that violating clearly stated...</td>\n",
       "      <td>0</td>\n",
       "      <td>0</td>\n",
       "      <td>0</td>\n",
       "      <td>0</td>\n",
       "      <td>0</td>\n",
       "      <td>0</td>\n",
       "    </tr>\n",
       "    <tr>\n",
       "      <th>96</th>\n",
       "      <td>003bd094feef5263</td>\n",
       "      <td>hi thanks for our kind words see you around talk</td>\n",
       "      <td>0</td>\n",
       "      <td>0</td>\n",
       "      <td>0</td>\n",
       "      <td>0</td>\n",
       "      <td>0</td>\n",
       "      <td>0</td>\n",
       "    </tr>\n",
       "    <tr>\n",
       "      <th>97</th>\n",
       "      <td>003caacc6ce6c9e9</td>\n",
       "      <td>collusion in poker this is regarded as most he...</td>\n",
       "      <td>0</td>\n",
       "      <td>0</td>\n",
       "      <td>0</td>\n",
       "      <td>0</td>\n",
       "      <td>0</td>\n",
       "      <td>0</td>\n",
       "    </tr>\n",
       "    <tr>\n",
       "      <th>98</th>\n",
       "      <td>003d77a20601cec1</td>\n",
       "      <td>thanks much however if it is been resolved why...</td>\n",
       "      <td>0</td>\n",
       "      <td>0</td>\n",
       "      <td>0</td>\n",
       "      <td>0</td>\n",
       "      <td>0</td>\n",
       "      <td>0</td>\n",
       "    </tr>\n",
       "    <tr>\n",
       "      <th>99</th>\n",
       "      <td>003dbd1b9b354c1f</td>\n",
       "      <td>you can do all you are doing right now but if ...</td>\n",
       "      <td>0</td>\n",
       "      <td>0</td>\n",
       "      <td>0</td>\n",
       "      <td>0</td>\n",
       "      <td>0</td>\n",
       "      <td>0</td>\n",
       "    </tr>\n",
       "  </tbody>\n",
       "</table>\n",
       "<p>100 rows × 8 columns</p>\n",
       "</div>"
      ],
      "text/plain": [
       "                  id                                       comment_text  \\\n",
       "0   0000997932d777bf  explanation why the edits made under my userna...   \n",
       "1   000103f0d9cfb60f  daww he matches this background colour i am se...   \n",
       "2   000113f07ec002fd  hey man i am really not trying to edit war it ...   \n",
       "3   0001b41b1c6bb37e  more i cannot make any real suggestions on imp...   \n",
       "4   0001d958c54c6e35  you sir are my hero any chance you remember wh...   \n",
       "..               ...                                                ...   \n",
       "95  003b9f448ee4a29d  thanks i can see that violating clearly stated...   \n",
       "96  003bd094feef5263   hi thanks for our kind words see you around talk   \n",
       "97  003caacc6ce6c9e9  collusion in poker this is regarded as most he...   \n",
       "98  003d77a20601cec1  thanks much however if it is been resolved why...   \n",
       "99  003dbd1b9b354c1f  you can do all you are doing right now but if ...   \n",
       "\n",
       "    toxic  severe_toxic  obscene  threat  insult  identity_hate  \n",
       "0       0             0        0       0       0              0  \n",
       "1       0             0        0       0       0              0  \n",
       "2       0             0        0       0       0              0  \n",
       "3       0             0        0       0       0              0  \n",
       "4       0             0        0       0       0              0  \n",
       "..    ...           ...      ...     ...     ...            ...  \n",
       "95      0             0        0       0       0              0  \n",
       "96      0             0        0       0       0              0  \n",
       "97      0             0        0       0       0              0  \n",
       "98      0             0        0       0       0              0  \n",
       "99      0             0        0       0       0              0  \n",
       "\n",
       "[100 rows x 8 columns]"
      ]
     },
     "execution_count": 5,
     "metadata": {},
     "output_type": "execute_result"
    }
   ],
   "source": [
    "train.loc[:, 'comment_text'] = comment_train[:100]\n",
    "train"
   ]
  },
  {
   "cell_type": "code",
   "execution_count": 6,
   "metadata": {},
   "outputs": [],
   "source": [
    "from nltk.tokenize import WordPunctTokenizer\n",
    "def tokenize_text(text, punct=False):\n",
    "    text = WordPunctTokenizer().tokenize(text)\n",
    "    text = [word for word in text if punct or word.isalnum()]\n",
    "    return text\n",
    "train['comment_text'] = pd.DataFrame(train['comment_text'].apply(tokenize_text))"
   ]
  },
  {
   "cell_type": "code",
   "execution_count": 7,
   "metadata": {},
   "outputs": [
    {
     "name": "stdout",
     "output_type": "stream",
     "text": [
      "100 8\n"
     ]
    }
   ],
   "source": [
    "r,c = train.shape\n",
    "print(r,c)"
   ]
  },
  {
   "cell_type": "code",
   "execution_count": 8,
   "metadata": {},
   "outputs": [
    {
     "data": {
      "text/plain": [
       "0     [explanation, why, the, edits, made, under, my...\n",
       "1     [daww, he, matches, this, background, colour, ...\n",
       "2     [hey, man, i, am, really, not, trying, to, edi...\n",
       "3     [more, i, cannot, make, any, real, suggestions...\n",
       "4     [you, sir, are, my, hero, any, chance, you, re...\n",
       "                            ...                        \n",
       "95    [thanks, i, can, see, that, violating, clearly...\n",
       "96    [hi, thanks, for, our, kind, words, see, you, ...\n",
       "97    [collusion, in, poker, this, is, regarded, as,...\n",
       "98    [thanks, much, however, if, it, is, been, reso...\n",
       "99    [you, can, do, all, you, are, doing, right, no...\n",
       "Name: comment_text, Length: 100, dtype: object"
      ]
     },
     "execution_count": 8,
     "metadata": {},
     "output_type": "execute_result"
    }
   ],
   "source": [
    "train['comment_text']"
   ]
  },
  {
   "cell_type": "code",
   "execution_count": 9,
   "metadata": {},
   "outputs": [],
   "source": [
    "list_data = []\n",
    "unique_word = []\n",
    "label = []\n",
    "chi_square = []\n",
    "for word_list in train['comment_text']:\n",
    "    list_data.append(word_list)"
   ]
  },
  {
   "cell_type": "code",
   "execution_count": 10,
   "metadata": {},
   "outputs": [],
   "source": [
    "from itertools import chain\n",
    "flatten_list = list(chain.from_iterable(list_data))\n"
   ]
  },
  {
   "cell_type": "code",
   "execution_count": 11,
   "metadata": {},
   "outputs": [
    {
     "name": "stdout",
     "output_type": "stream",
     "text": [
      "7192\n"
     ]
    }
   ],
   "source": [
    "print(len(flatten_list))\n"
   ]
  },
  {
   "cell_type": "code",
   "execution_count": 20,
   "metadata": {},
   "outputs": [
    {
     "name": "stdout",
     "output_type": "stream",
     "text": [
      "1938\n"
     ]
    }
   ],
   "source": [
    "# for word in flatten_list:\n",
    "#     if word not in unique_word:\n",
    "#         unique_word.append(word)\n",
    "        \n",
    "# with open(\"unique_words.txt\", \"w\") as file:\n",
    "#   for word in unique_word:\n",
    "#     file.write(word + \"\\n\")\n",
    "\n",
    "with open(\"unique_words.txt\", \"r\") as file:\n",
    "  unique_word.clear()\n",
    "  for line in file:\n",
    "    word = line.strip()  # Remove trailing newline character\n",
    "    unique_word.append(word)\n",
    "print(len(unique_word))"
   ]
  },
  {
   "cell_type": "code",
   "execution_count": 21,
   "metadata": {},
   "outputs": [
    {
     "name": "stdout",
     "output_type": "stream",
     "text": [
      "['toxic', 'severe_toxic', 'obscene', 'threat', 'insult', 'identity_hate']\n",
      "0\n"
     ]
    }
   ],
   "source": [
    "label = train.columns[2:].to_list()\n",
    "print(label)\n",
    "print(train[label[0]][10])"
   ]
  },
  {
   "cell_type": "code",
   "execution_count": 26,
   "metadata": {},
   "outputs": [
    {
     "name": "stdout",
     "output_type": "stream",
     "text": [
      "Chi2 process......\n"
     ]
    }
   ],
   "source": [
    "''' \n",
    "0 for toxic\n",
    "1 for severe_toxic\n",
    "2 for obscene\n",
    "3 for threat\n",
    "4 for insult\n",
    "5 for identity_hate\n",
    "\n",
    "'''\n",
    "A0 = []\n",
    "B0 = []\n",
    "C0 = []\n",
    "D0 = []\n",
    "\n",
    "print('Chi2 process......')\n",
    "for i in range(len(unique_word)):\n",
    "    countA = 0\n",
    "    countB = 0\n",
    "    countC = 0\n",
    "    countD = 0\n",
    "    ''' \n",
    "    Furthermore, A the number of documents in class c which contains the word t,\n",
    "    B the number of documents that are not in the class c and contains the word t,\n",
    "    C the number of documents contained in class c but doesnot contain the word,\n",
    "    D is the number of documents that are not class c and doesnot contain the\n",
    "    word t\n",
    "    '''\n",
    "    # consider each 'comment_text'\n",
    "    for j in range(len(list_data)):\n",
    "        \n",
    "        for k in range(len(list_data[j])):\n",
    "            if unique_word[i] == list_data[j][k]:\n",
    "                if (train['toxic'][j] == 1):\n",
    "                    countA += 1\n",
    "                else:\n",
    "                    countB += 1\n",
    "    A0.append(countA)\n",
    "    B0.append(countB)\n",
    "\n",
    "    for j in range(len(list_data)):\n",
    "        checkC = True\n",
    "        checkD = True\n",
    "        if (train['toxic'][j] == 1):\n",
    "            for k in range(len(list_data[j])):\n",
    "                if (unique_word[i] == list_data[j][k]):\n",
    "                    checkC = False\n",
    "                if (checkC == True): \n",
    "                    countC += 1\n",
    "        \n",
    "        else:\n",
    "            for k in range(len(list_data[j])):\n",
    "                if (unique_word[i] == list_data[j][k]):\n",
    "                    checkD = False\n",
    "                if (checkD == True): \n",
    "                    countD += 1\n",
    "    C0.append(countC)\n",
    "    D0.append(countD)\n",
    "\n",
    "\n",
    "with open(\"chi2_data.txt\", \"w\") as file:\n",
    "    for lst in [A0,B0,C0,D0]:\n",
    "        for count in lst:\n",
    "            file.write(str(count) +\", \") \n",
    "        file.write(\"\\n\")"
   ]
  },
  {
   "cell_type": "code",
   "execution_count": null,
   "metadata": {},
   "outputs": [],
   "source": [
    "A1 = []\n",
    "B1 = []\n",
    "C1 = []\n",
    "D1 = []\n",
    "print('Chi2 process......')\n",
    "for i in range(len(unique_word)):\n",
    "    countA = 0\n",
    "    countB = 0\n",
    "    countC = 0\n",
    "    countD = 0\n",
    "\n",
    "    # consider each 'comment_text'\n",
    "    for j in range(len(list_data)):\n",
    "        \n",
    "        for k in range(len(list_data[j])):\n",
    "            if unique_word[i] == list_data[j][k]:\n",
    "                if (train['severe_toxic'][j] == 1):\n",
    "                    countA += 1\n",
    "                else:\n",
    "                    countB += 1\n",
    "    A1.append(countA)\n",
    "    B1.append(countB)\n",
    "\n",
    "    for j in range(len(list_data)):\n",
    "        checkC = True\n",
    "        checkD = True\n",
    "        if (train['severe_toxic'][j] == 1):\n",
    "            for k in range(len(list_data[j])):\n",
    "                if (unique_word[i] == list_data[j][k]):\n",
    "                    checkC = False\n",
    "                if (checkC == True): \n",
    "                    countC += 1\n",
    "        \n",
    "        else:\n",
    "            for k in range(len(list_data[j])):\n",
    "                if (unique_word[i] == list_data[j][k]):\n",
    "                    checkD = False\n",
    "                if (checkD == True): \n",
    "                    countD += 1\n",
    "    C1.append(countC)\n",
    "    D1.append(countD)\n",
    "\n"
   ]
  }
 ],
 "metadata": {
  "kernelspec": {
   "display_name": "base",
   "language": "python",
   "name": "python3"
  },
  "language_info": {
   "codemirror_mode": {
    "name": "ipython",
    "version": 3
   },
   "file_extension": ".py",
   "mimetype": "text/x-python",
   "name": "python",
   "nbconvert_exporter": "python",
   "pygments_lexer": "ipython3",
   "version": "3.12.1"
  }
 },
 "nbformat": 4,
 "nbformat_minor": 2
}
