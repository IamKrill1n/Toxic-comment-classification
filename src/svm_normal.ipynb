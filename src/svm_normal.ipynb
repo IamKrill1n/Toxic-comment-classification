{
 "cells": [
  {
   "cell_type": "code",
   "execution_count": 1,
   "metadata": {},
   "outputs": [],
   "source": [
    "import pandas as pd\n",
    "import numpy as np\n",
    "import re"
   ]
  },
  {
   "cell_type": "code",
   "execution_count": 2,
   "metadata": {},
   "outputs": [],
   "source": [
    "def write_to_file(data, filename):\n",
    "    with open(filename, 'w') as f:\n",
    "        for line in data:\n",
    "            f.write(line + '\\n')\n",
    "\n",
    "def read_from_file(filename):\n",
    "    with open(filename, 'r') as f:\n",
    "        return np.array(f.read().splitlines())\n",
    "    "
   ]
  },
  {
   "cell_type": "code",
   "execution_count": 3,
   "metadata": {},
   "outputs": [
    {
     "name": "stdout",
     "output_type": "stream",
     "text": [
      "Records in training set: 159571\n",
      "Records in test set: 153164\n"
     ]
    },
    {
     "data": {
      "text/html": [
       "<div>\n",
       "<style scoped>\n",
       "    .dataframe tbody tr th:only-of-type {\n",
       "        vertical-align: middle;\n",
       "    }\n",
       "\n",
       "    .dataframe tbody tr th {\n",
       "        vertical-align: top;\n",
       "    }\n",
       "\n",
       "    .dataframe thead th {\n",
       "        text-align: right;\n",
       "    }\n",
       "</style>\n",
       "<table border=\"1\" class=\"dataframe\">\n",
       "  <thead>\n",
       "    <tr style=\"text-align: right;\">\n",
       "      <th></th>\n",
       "      <th>id</th>\n",
       "      <th>comment_text</th>\n",
       "      <th>toxic</th>\n",
       "      <th>severe_toxic</th>\n",
       "      <th>obscene</th>\n",
       "      <th>threat</th>\n",
       "      <th>insult</th>\n",
       "      <th>identity_hate</th>\n",
       "    </tr>\n",
       "  </thead>\n",
       "  <tbody>\n",
       "    <tr>\n",
       "      <th>0</th>\n",
       "      <td>0000997932d777bf</td>\n",
       "      <td>Explanation\\nWhy the edits made under my usern...</td>\n",
       "      <td>0</td>\n",
       "      <td>0</td>\n",
       "      <td>0</td>\n",
       "      <td>0</td>\n",
       "      <td>0</td>\n",
       "      <td>0</td>\n",
       "    </tr>\n",
       "    <tr>\n",
       "      <th>1</th>\n",
       "      <td>000103f0d9cfb60f</td>\n",
       "      <td>D'aww! He matches this background colour I'm s...</td>\n",
       "      <td>0</td>\n",
       "      <td>0</td>\n",
       "      <td>0</td>\n",
       "      <td>0</td>\n",
       "      <td>0</td>\n",
       "      <td>0</td>\n",
       "    </tr>\n",
       "    <tr>\n",
       "      <th>2</th>\n",
       "      <td>000113f07ec002fd</td>\n",
       "      <td>Hey man, I'm really not trying to edit war. It...</td>\n",
       "      <td>0</td>\n",
       "      <td>0</td>\n",
       "      <td>0</td>\n",
       "      <td>0</td>\n",
       "      <td>0</td>\n",
       "      <td>0</td>\n",
       "    </tr>\n",
       "    <tr>\n",
       "      <th>3</th>\n",
       "      <td>0001b41b1c6bb37e</td>\n",
       "      <td>\"\\nMore\\nI can't make any real suggestions on ...</td>\n",
       "      <td>0</td>\n",
       "      <td>0</td>\n",
       "      <td>0</td>\n",
       "      <td>0</td>\n",
       "      <td>0</td>\n",
       "      <td>0</td>\n",
       "    </tr>\n",
       "    <tr>\n",
       "      <th>4</th>\n",
       "      <td>0001d958c54c6e35</td>\n",
       "      <td>You, sir, are my hero. Any chance you remember...</td>\n",
       "      <td>0</td>\n",
       "      <td>0</td>\n",
       "      <td>0</td>\n",
       "      <td>0</td>\n",
       "      <td>0</td>\n",
       "      <td>0</td>\n",
       "    </tr>\n",
       "    <tr>\n",
       "      <th>...</th>\n",
       "      <td>...</td>\n",
       "      <td>...</td>\n",
       "      <td>...</td>\n",
       "      <td>...</td>\n",
       "      <td>...</td>\n",
       "      <td>...</td>\n",
       "      <td>...</td>\n",
       "      <td>...</td>\n",
       "    </tr>\n",
       "    <tr>\n",
       "      <th>159566</th>\n",
       "      <td>ffe987279560d7ff</td>\n",
       "      <td>\":::::And for the second time of asking, when ...</td>\n",
       "      <td>0</td>\n",
       "      <td>0</td>\n",
       "      <td>0</td>\n",
       "      <td>0</td>\n",
       "      <td>0</td>\n",
       "      <td>0</td>\n",
       "    </tr>\n",
       "    <tr>\n",
       "      <th>159567</th>\n",
       "      <td>ffea4adeee384e90</td>\n",
       "      <td>You should be ashamed of yourself \\n\\nThat is ...</td>\n",
       "      <td>0</td>\n",
       "      <td>0</td>\n",
       "      <td>0</td>\n",
       "      <td>0</td>\n",
       "      <td>0</td>\n",
       "      <td>0</td>\n",
       "    </tr>\n",
       "    <tr>\n",
       "      <th>159568</th>\n",
       "      <td>ffee36eab5c267c9</td>\n",
       "      <td>Spitzer \\n\\nUmm, theres no actual article for ...</td>\n",
       "      <td>0</td>\n",
       "      <td>0</td>\n",
       "      <td>0</td>\n",
       "      <td>0</td>\n",
       "      <td>0</td>\n",
       "      <td>0</td>\n",
       "    </tr>\n",
       "    <tr>\n",
       "      <th>159569</th>\n",
       "      <td>fff125370e4aaaf3</td>\n",
       "      <td>And it looks like it was actually you who put ...</td>\n",
       "      <td>0</td>\n",
       "      <td>0</td>\n",
       "      <td>0</td>\n",
       "      <td>0</td>\n",
       "      <td>0</td>\n",
       "      <td>0</td>\n",
       "    </tr>\n",
       "    <tr>\n",
       "      <th>159570</th>\n",
       "      <td>fff46fc426af1f9a</td>\n",
       "      <td>\"\\nAnd ... I really don't think you understand...</td>\n",
       "      <td>0</td>\n",
       "      <td>0</td>\n",
       "      <td>0</td>\n",
       "      <td>0</td>\n",
       "      <td>0</td>\n",
       "      <td>0</td>\n",
       "    </tr>\n",
       "  </tbody>\n",
       "</table>\n",
       "<p>159571 rows × 8 columns</p>\n",
       "</div>"
      ],
      "text/plain": [
       "                      id                                       comment_text  \\\n",
       "0       0000997932d777bf  Explanation\\nWhy the edits made under my usern...   \n",
       "1       000103f0d9cfb60f  D'aww! He matches this background colour I'm s...   \n",
       "2       000113f07ec002fd  Hey man, I'm really not trying to edit war. It...   \n",
       "3       0001b41b1c6bb37e  \"\\nMore\\nI can't make any real suggestions on ...   \n",
       "4       0001d958c54c6e35  You, sir, are my hero. Any chance you remember...   \n",
       "...                  ...                                                ...   \n",
       "159566  ffe987279560d7ff  \":::::And for the second time of asking, when ...   \n",
       "159567  ffea4adeee384e90  You should be ashamed of yourself \\n\\nThat is ...   \n",
       "159568  ffee36eab5c267c9  Spitzer \\n\\nUmm, theres no actual article for ...   \n",
       "159569  fff125370e4aaaf3  And it looks like it was actually you who put ...   \n",
       "159570  fff46fc426af1f9a  \"\\nAnd ... I really don't think you understand...   \n",
       "\n",
       "        toxic  severe_toxic  obscene  threat  insult  identity_hate  \n",
       "0           0             0        0       0       0              0  \n",
       "1           0             0        0       0       0              0  \n",
       "2           0             0        0       0       0              0  \n",
       "3           0             0        0       0       0              0  \n",
       "4           0             0        0       0       0              0  \n",
       "...       ...           ...      ...     ...     ...            ...  \n",
       "159566      0             0        0       0       0              0  \n",
       "159567      0             0        0       0       0              0  \n",
       "159568      0             0        0       0       0              0  \n",
       "159569      0             0        0       0       0              0  \n",
       "159570      0             0        0       0       0              0  \n",
       "\n",
       "[159571 rows x 8 columns]"
      ]
     },
     "execution_count": 3,
     "metadata": {},
     "output_type": "execute_result"
    }
   ],
   "source": [
    "train = pd.read_csv(\"D:\\\\ky4\\\\MachineLearning\\\\Project\\\\train.csv\").fillna('')\n",
    "test = pd.read_csv(\"D:\\\\ky4\\\\MachineLearning\\\\Project\\\\test.csv\").fillna('')\n",
    "submission = pd.read_csv(\"D:\\\\ky4\\\\MachineLearning\\\\Project\\\\sample_submission.csv\")\n",
    "print(\"Records in training set:\",len(train))\n",
    "print(\"Records in test set:\",len(test))\n",
    "train"
   ]
  },
  {
   "cell_type": "code",
   "execution_count": 4,
   "metadata": {},
   "outputs": [
    {
     "data": {
      "text/plain": [
       "array(['toxic', 'severe_toxic', 'obscene', 'threat', 'insult',\n",
       "       'identity_hate'], dtype=object)"
      ]
     },
     "execution_count": 4,
     "metadata": {},
     "output_type": "execute_result"
    }
   ],
   "source": [
    "y_train = pd.read_csv(\"D:\\\\ky4\\\\MachineLearning\\\\Project\\\\test_labels.csv\")\n",
    "classes = y_train.columns.values[1:]\n",
    "classes \n"
   ]
  },
  {
   "cell_type": "markdown",
   "metadata": {},
   "source": [
    "%cd D:\\\\ky4\\\\MachineLearning\\\\MLP\\\\Toxic-comment-classification\\\\clean_data"
   ]
  },
  {
   "cell_type": "code",
   "execution_count": 5,
   "metadata": {},
   "outputs": [
    {
     "data": {
      "text/plain": [
       "array(['explanation why the edits made under my username hardcore metallica fan were reverted they were not vandalisms just closure on some gas after i voted at new york dolls fac and please do not remove the template from the talk page since i am retired now    ',\n",
       "       'daww he matches this background colour i am seemingly stuck with thanks talk   january   utc',\n",
       "       'hey man i am really not trying to edit war it is just that this guy is constantly removing relevant information and talking to me through edits instead of my talk page he seems to care more about the formatting than the actual info',\n",
       "       ...,\n",
       "       'spitzer umm theres no actual article for prostitution ring crunch captain',\n",
       "       'and it looks like it was actually you who put on the speedy to have the first version deleted now that i look at it',\n",
       "       'and i really do not think you understand i came here and my idea was bad right away what kind of community goes you have bad ideas go away instead of helping rewrite them'],\n",
       "      dtype='<U5000')"
      ]
     },
     "execution_count": 5,
     "metadata": {},
     "output_type": "execute_result"
    }
   ],
   "source": [
    "X_train = read_from_file(\"D:\\\\ky4\\\\MachineLearning\\\\MLP\\\\Toxic-comment-classification\\\\clean_data\\\\data_train_cleaned_vanilla.txt\")\n",
    "X_test = read_from_file(\"D:\\\\ky4\\\\MachineLearning\\\\MLP\\\\Toxic-comment-classification\\\\clean_data\\\\data_test_cleaned_vanilla.txt\")\n",
    "X_train.shape\n",
    "X_train"
   ]
  },
  {
   "cell_type": "code",
   "execution_count": 6,
   "metadata": {},
   "outputs": [
    {
     "data": {
      "text/html": [
       "<div>\n",
       "<style scoped>\n",
       "    .dataframe tbody tr th:only-of-type {\n",
       "        vertical-align: middle;\n",
       "    }\n",
       "\n",
       "    .dataframe tbody tr th {\n",
       "        vertical-align: top;\n",
       "    }\n",
       "\n",
       "    .dataframe thead th {\n",
       "        text-align: right;\n",
       "    }\n",
       "</style>\n",
       "<table border=\"1\" class=\"dataframe\">\n",
       "  <thead>\n",
       "    <tr style=\"text-align: right;\">\n",
       "      <th></th>\n",
       "      <th>id</th>\n",
       "      <th>comment_text</th>\n",
       "    </tr>\n",
       "  </thead>\n",
       "  <tbody>\n",
       "    <tr>\n",
       "      <th>0</th>\n",
       "      <td>00001cee341fdb12</td>\n",
       "      <td>yo bitch ja rule is more succesful then you wi...</td>\n",
       "    </tr>\n",
       "    <tr>\n",
       "      <th>1</th>\n",
       "      <td>0000247867823ef7</td>\n",
       "      <td>from rfc the title is fine as it is imo</td>\n",
       "    </tr>\n",
       "    <tr>\n",
       "      <th>2</th>\n",
       "      <td>00013b17ad220c46</td>\n",
       "      <td>sources zawe ashton on lapland</td>\n",
       "    </tr>\n",
       "    <tr>\n",
       "      <th>3</th>\n",
       "      <td>00017563c3f7919a</td>\n",
       "      <td>if you have a look back at the source the info...</td>\n",
       "    </tr>\n",
       "    <tr>\n",
       "      <th>4</th>\n",
       "      <td>00017695ad8997eb</td>\n",
       "      <td>i do not anonymously edit articles at all</td>\n",
       "    </tr>\n",
       "    <tr>\n",
       "      <th>...</th>\n",
       "      <td>...</td>\n",
       "      <td>...</td>\n",
       "    </tr>\n",
       "    <tr>\n",
       "      <th>153159</th>\n",
       "      <td>fffcd0960ee309b5</td>\n",
       "      <td>i totally agree this stuff is nothing but too ...</td>\n",
       "    </tr>\n",
       "    <tr>\n",
       "      <th>153160</th>\n",
       "      <td>fffd7a9a6eb32c16</td>\n",
       "      <td>throw from out field to home plate does it get...</td>\n",
       "    </tr>\n",
       "    <tr>\n",
       "      <th>153161</th>\n",
       "      <td>fffda9e8d6fafa9e</td>\n",
       "      <td>okinotorishima categories i see your changes a...</td>\n",
       "    </tr>\n",
       "    <tr>\n",
       "      <th>153162</th>\n",
       "      <td>fffe8f1340a79fc2</td>\n",
       "      <td>one of the founding nations of the eu germany ...</td>\n",
       "    </tr>\n",
       "    <tr>\n",
       "      <th>153163</th>\n",
       "      <td>ffffce3fb183ee80</td>\n",
       "      <td>stop already your bullshit is not welcome here...</td>\n",
       "    </tr>\n",
       "  </tbody>\n",
       "</table>\n",
       "<p>153164 rows × 2 columns</p>\n",
       "</div>"
      ],
      "text/plain": [
       "                      id                                       comment_text\n",
       "0       00001cee341fdb12  yo bitch ja rule is more succesful then you wi...\n",
       "1       0000247867823ef7            from rfc the title is fine as it is imo\n",
       "2       00013b17ad220c46                     sources zawe ashton on lapland\n",
       "3       00017563c3f7919a  if you have a look back at the source the info...\n",
       "4       00017695ad8997eb          i do not anonymously edit articles at all\n",
       "...                  ...                                                ...\n",
       "153159  fffcd0960ee309b5  i totally agree this stuff is nothing but too ...\n",
       "153160  fffd7a9a6eb32c16  throw from out field to home plate does it get...\n",
       "153161  fffda9e8d6fafa9e  okinotorishima categories i see your changes a...\n",
       "153162  fffe8f1340a79fc2  one of the founding nations of the eu germany ...\n",
       "153163  ffffce3fb183ee80  stop already your bullshit is not welcome here...\n",
       "\n",
       "[153164 rows x 2 columns]"
      ]
     },
     "execution_count": 6,
     "metadata": {},
     "output_type": "execute_result"
    }
   ],
   "source": [
    "train.loc[:, 'comment_text'] = X_train\n",
    "train\n",
    "\n",
    "test.loc[:, 'comment_text'] = X_test\n",
    "test"
   ]
  },
  {
   "cell_type": "code",
   "execution_count": 7,
   "metadata": {},
   "outputs": [],
   "source": [
    "from sklearn.model_selection import train_test_split\n",
    "# from nltk import ngrams, bigrams, trigrams\n",
    "from sklearn.svm import LinearSVC\n",
    "from sklearn.metrics import f1_score\n",
    "from sklearn.feature_extraction.text import TfidfVectorizer\n",
    "\n",
    "def cv_tf_train_test(dataframe, label, vectorizer, ngram):\n",
    "    # Split the data to X and y data sets\n",
    "    X = dataframe.comment_text\n",
    "    y = dataframe[label]\n",
    "\n",
    "    # Split data to training and test data\n",
    "    X_train, X_test, y_train, y_test = train_test_split(X,y,test_size=0.2, random_state=50)\n",
    "    cv1 = vectorizer(ngram_range = (ngram))\n",
    "\n",
    "    X_train_cv1 = cv1.fit_transform(X_train)\n",
    "    X_test_cv1 = cv1.transform(X_test)\n",
    "\n",
    "    svm_model = LinearSVC()\n",
    "    svm_model.fit(X_train_cv1, y_train)\n",
    "    f1_score_data = {'F1 Score':[f1_score(svm_model.predict(X_test_cv1), y_test)]}\n",
    "    df_f1 = pd.DataFrame(f1_score_data, index = ['SVM'])\n",
    "    return df_f1"
   ]
  },
  {
   "cell_type": "code",
   "execution_count": 8,
   "metadata": {},
   "outputs": [],
   "source": [
    "Insulting_comment_train = train.loc[:, ['id', 'comment_text', 'insult']]\n",
    "\n",
    "IdentityHate_comment_train = train.loc[:, ['id', 'comment_text', 'identity_hate']]\n",
    "\n",
    "Obscene_comment_train = train.loc[:, ['id', 'comment_text', 'obscene']]\n",
    "\n",
    "Threatening_comment_train = train.loc[:, ['id', 'comment_text', 'threat']]\n",
    "\n",
    "Severetoxic_comment_train = train.loc[:, ['id', 'comment_text', 'severe_toxic']]\n",
    "\n",
    "Toxic_comment_train = train.loc[:, ['id', 'comment_text', 'toxic']]"
   ]
  },
  {
   "cell_type": "code",
   "execution_count": 9,
   "metadata": {},
   "outputs": [
    {
     "data": {
      "text/plain": [
       "toxic\n",
       "0    144277\n",
       "1     15294\n",
       "Name: count, dtype: int64"
      ]
     },
     "execution_count": 9,
     "metadata": {},
     "output_type": "execute_result"
    }
   ],
   "source": [
    "Toxic_comment_train['toxic'].value_counts()\n"
   ]
  },
  {
   "cell_type": "code",
   "execution_count": 10,
   "metadata": {},
   "outputs": [
    {
     "data": {
      "text/plain": [
       "toxic\n",
       "1    5000\n",
       "0    5000\n",
       "Name: count, dtype: int64"
      ]
     },
     "execution_count": 10,
     "metadata": {},
     "output_type": "execute_result"
    }
   ],
   "source": [
    "Toxic_comment_balanced_0 = Toxic_comment_train[Toxic_comment_train['toxic'] == 0].iloc[0:5000, :]\n",
    "Toxic_comment_balanced_1 = Toxic_comment_train[Toxic_comment_train['toxic'] == 1].iloc[0:5000, :]\n",
    "Toxic_comment_balanced = pd.concat([Toxic_comment_balanced_1,Toxic_comment_balanced_0])\n",
    "Toxic_comment_balanced['toxic'].value_counts()\n"
   ]
  },
  {
   "cell_type": "code",
   "execution_count": 11,
   "metadata": {},
   "outputs": [
    {
     "data": {
      "text/plain": [
       "severe_toxic\n",
       "0    157976\n",
       "1      1595\n",
       "Name: count, dtype: int64"
      ]
     },
     "execution_count": 11,
     "metadata": {},
     "output_type": "execute_result"
    }
   ],
   "source": [
    "Severetoxic_comment_train['severe_toxic'].value_counts()"
   ]
  },
  {
   "cell_type": "code",
   "execution_count": 12,
   "metadata": {},
   "outputs": [
    {
     "data": {
      "text/plain": [
       "severe_toxic\n",
       "1    1595\n",
       "0    1595\n",
       "Name: count, dtype: int64"
      ]
     },
     "execution_count": 12,
     "metadata": {},
     "output_type": "execute_result"
    }
   ],
   "source": [
    "Severetoxic_comment_balanced_0 = Severetoxic_comment_train[Severetoxic_comment_train['severe_toxic'] == 0].iloc[0:1595, :]\n",
    "Severetoxic_comment_balanced_1 = Severetoxic_comment_train[Severetoxic_comment_train['severe_toxic'] == 1].iloc[0:1595, :]\n",
    "Severetoxic_comment_balanced = pd.concat([Severetoxic_comment_balanced_1,Severetoxic_comment_balanced_0])\n",
    "Severetoxic_comment_balanced['severe_toxic'].value_counts()\n"
   ]
  },
  {
   "cell_type": "code",
   "execution_count": 13,
   "metadata": {},
   "outputs": [
    {
     "data": {
      "text/plain": [
       "obscene\n",
       "0    151122\n",
       "1      8449\n",
       "Name: count, dtype: int64"
      ]
     },
     "execution_count": 13,
     "metadata": {},
     "output_type": "execute_result"
    }
   ],
   "source": [
    "Obscene_comment_train['obscene'].value_counts()"
   ]
  },
  {
   "cell_type": "code",
   "execution_count": 14,
   "metadata": {},
   "outputs": [
    {
     "data": {
      "text/plain": [
       "obscene\n",
       "1    5000\n",
       "0    5000\n",
       "Name: count, dtype: int64"
      ]
     },
     "execution_count": 14,
     "metadata": {},
     "output_type": "execute_result"
    }
   ],
   "source": [
    "Obscene_comment_balanced_0 = Obscene_comment_train[Obscene_comment_train['obscene'] == 0].iloc[0:5000, :]\n",
    "Obscene_comment_balanced_1 = Obscene_comment_train[Obscene_comment_train['obscene'] == 1].iloc[0:5000, :]\n",
    "Obscene_comment_balanced = pd.concat([Obscene_comment_balanced_1,Obscene_comment_balanced_0])\n",
    "Obscene_comment_balanced['obscene'].value_counts()\n"
   ]
  },
  {
   "cell_type": "code",
   "execution_count": 15,
   "metadata": {},
   "outputs": [
    {
     "data": {
      "text/plain": [
       "threat\n",
       "0    159093\n",
       "1       478\n",
       "Name: count, dtype: int64"
      ]
     },
     "execution_count": 15,
     "metadata": {},
     "output_type": "execute_result"
    }
   ],
   "source": [
    "Threatening_comment_train['threat'].value_counts()"
   ]
  },
  {
   "cell_type": "code",
   "execution_count": 16,
   "metadata": {},
   "outputs": [
    {
     "data": {
      "text/plain": [
       "threat\n",
       "1    478\n",
       "0    478\n",
       "Name: count, dtype: int64"
      ]
     },
     "execution_count": 16,
     "metadata": {},
     "output_type": "execute_result"
    }
   ],
   "source": [
    "Threatening_comment_balanced_0 = Threatening_comment_train[Threatening_comment_train['threat'] == 0].iloc[0:478, :]\n",
    "Threatening_comment_balanced_1 = Threatening_comment_train[Threatening_comment_train['threat'] == 1].iloc[0:478, :]\n",
    "Threatening_comment_balanced = pd.concat([Threatening_comment_balanced_1,Threatening_comment_balanced_0])\n",
    "Threatening_comment_balanced['threat'].value_counts()\n"
   ]
  },
  {
   "cell_type": "code",
   "execution_count": 17,
   "metadata": {},
   "outputs": [
    {
     "data": {
      "text/plain": [
       "insult\n",
       "0    151694\n",
       "1      7877\n",
       "Name: count, dtype: int64"
      ]
     },
     "execution_count": 17,
     "metadata": {},
     "output_type": "execute_result"
    }
   ],
   "source": [
    "Insulting_comment_train['insult'].value_counts()"
   ]
  },
  {
   "cell_type": "code",
   "execution_count": 18,
   "metadata": {},
   "outputs": [
    {
     "data": {
      "text/plain": [
       "insult\n",
       "1    5000\n",
       "0    5000\n",
       "Name: count, dtype: int64"
      ]
     },
     "execution_count": 18,
     "metadata": {},
     "output_type": "execute_result"
    }
   ],
   "source": [
    "Insulting_comment_balanced_0 = Insulting_comment_train[Insulting_comment_train['insult'] == 0].iloc[0:5000, :]\n",
    "Insulting_comment_balanced_1 = Insulting_comment_train[Insulting_comment_train['insult'] == 1].iloc[0:5000, :]\n",
    "Insulting_comment_balanced = pd.concat([Insulting_comment_balanced_1,Insulting_comment_balanced_0])\n",
    "Insulting_comment_balanced['insult'].value_counts()\n"
   ]
  },
  {
   "cell_type": "code",
   "execution_count": 19,
   "metadata": {},
   "outputs": [
    {
     "data": {
      "text/plain": [
       "identity_hate\n",
       "0    158166\n",
       "1      1405\n",
       "Name: count, dtype: int64"
      ]
     },
     "execution_count": 19,
     "metadata": {},
     "output_type": "execute_result"
    }
   ],
   "source": [
    "IdentityHate_comment_train['identity_hate'].value_counts()"
   ]
  },
  {
   "cell_type": "code",
   "execution_count": 20,
   "metadata": {},
   "outputs": [
    {
     "data": {
      "text/plain": [
       "identity_hate\n",
       "1    1405\n",
       "0    1405\n",
       "Name: count, dtype: int64"
      ]
     },
     "execution_count": 20,
     "metadata": {},
     "output_type": "execute_result"
    }
   ],
   "source": [
    "IdentityHate_comment_balanced_0 = IdentityHate_comment_train[IdentityHate_comment_train['identity_hate'] == 0].iloc[0:1405, :]\n",
    "IdentityHate_comment_balanced_1 = IdentityHate_comment_train[IdentityHate_comment_train['identity_hate'] == 1].iloc[0:1405, :]\n",
    "IdentityHate_comment_balanced = pd.concat([IdentityHate_comment_balanced_1,IdentityHate_comment_balanced_0])\n",
    "IdentityHate_comment_balanced['identity_hate'].value_counts()\n"
   ]
  },
  {
   "cell_type": "code",
   "execution_count": 21,
   "metadata": {},
   "outputs": [
    {
     "name": "stderr",
     "output_type": "stream",
     "text": [
      "d:\\PMLT\\Miniconda3\\Lib\\site-packages\\sklearn\\svm\\_classes.py:31: FutureWarning: The default value of `dual` will change from `True` to `'auto'` in 1.5. Set the value of `dual` explicitly to suppress the warning.\n",
      "  warnings.warn(\n"
     ]
    },
    {
     "data": {
      "text/html": [
       "<div>\n",
       "<style scoped>\n",
       "    .dataframe tbody tr th:only-of-type {\n",
       "        vertical-align: middle;\n",
       "    }\n",
       "\n",
       "    .dataframe tbody tr th {\n",
       "        vertical-align: top;\n",
       "    }\n",
       "\n",
       "    .dataframe thead th {\n",
       "        text-align: right;\n",
       "    }\n",
       "</style>\n",
       "<table border=\"1\" class=\"dataframe\">\n",
       "  <thead>\n",
       "    <tr style=\"text-align: right;\">\n",
       "      <th></th>\n",
       "      <th>F1 Score(Toxic)</th>\n",
       "    </tr>\n",
       "  </thead>\n",
       "  <tbody>\n",
       "    <tr>\n",
       "      <th>SVM</th>\n",
       "      <td>0.891919</td>\n",
       "    </tr>\n",
       "  </tbody>\n",
       "</table>\n",
       "</div>"
      ],
      "text/plain": [
       "     F1 Score(Toxic)\n",
       "SVM         0.891919"
      ]
     },
     "execution_count": 21,
     "metadata": {},
     "output_type": "execute_result"
    }
   ],
   "source": [
    "Toxic_comment_cv = cv_tf_train_test(Toxic_comment_balanced,'toxic', TfidfVectorizer, (1,1))\n",
    "Toxic_comment_cv.rename(columns={'F1 Score': 'F1 Score(Toxic)'}, inplace = True)\n",
    "Toxic_comment_cv"
   ]
  },
  {
   "cell_type": "code",
   "execution_count": 22,
   "metadata": {},
   "outputs": [
    {
     "name": "stderr",
     "output_type": "stream",
     "text": [
      "d:\\PMLT\\Miniconda3\\Lib\\site-packages\\sklearn\\svm\\_classes.py:31: FutureWarning: The default value of `dual` will change from `True` to `'auto'` in 1.5. Set the value of `dual` explicitly to suppress the warning.\n",
      "  warnings.warn(\n"
     ]
    },
    {
     "data": {
      "text/html": [
       "<div>\n",
       "<style scoped>\n",
       "    .dataframe tbody tr th:only-of-type {\n",
       "        vertical-align: middle;\n",
       "    }\n",
       "\n",
       "    .dataframe tbody tr th {\n",
       "        vertical-align: top;\n",
       "    }\n",
       "\n",
       "    .dataframe thead th {\n",
       "        text-align: right;\n",
       "    }\n",
       "</style>\n",
       "<table border=\"1\" class=\"dataframe\">\n",
       "  <thead>\n",
       "    <tr style=\"text-align: right;\">\n",
       "      <th></th>\n",
       "      <th>F1 Score(severe_toxic)</th>\n",
       "    </tr>\n",
       "  </thead>\n",
       "  <tbody>\n",
       "    <tr>\n",
       "      <th>SVM</th>\n",
       "      <td>0.927632</td>\n",
       "    </tr>\n",
       "  </tbody>\n",
       "</table>\n",
       "</div>"
      ],
      "text/plain": [
       "     F1 Score(severe_toxic)\n",
       "SVM                0.927632"
      ]
     },
     "execution_count": 22,
     "metadata": {},
     "output_type": "execute_result"
    }
   ],
   "source": [
    "severe_toxic_comment_cv = cv_tf_train_test(Severetoxic_comment_balanced,'severe_toxic', TfidfVectorizer, (1,1))\n",
    "severe_toxic_comment_cv.rename(columns={'F1 Score': 'F1 Score(severe_toxic)'}, inplace = True)\n",
    "severe_toxic_comment_cv"
   ]
  },
  {
   "cell_type": "code",
   "execution_count": 23,
   "metadata": {},
   "outputs": [
    {
     "name": "stderr",
     "output_type": "stream",
     "text": [
      "d:\\PMLT\\Miniconda3\\Lib\\site-packages\\sklearn\\svm\\_classes.py:31: FutureWarning: The default value of `dual` will change from `True` to `'auto'` in 1.5. Set the value of `dual` explicitly to suppress the warning.\n",
      "  warnings.warn(\n"
     ]
    },
    {
     "data": {
      "text/html": [
       "<div>\n",
       "<style scoped>\n",
       "    .dataframe tbody tr th:only-of-type {\n",
       "        vertical-align: middle;\n",
       "    }\n",
       "\n",
       "    .dataframe tbody tr th {\n",
       "        vertical-align: top;\n",
       "    }\n",
       "\n",
       "    .dataframe thead th {\n",
       "        text-align: right;\n",
       "    }\n",
       "</style>\n",
       "<table border=\"1\" class=\"dataframe\">\n",
       "  <thead>\n",
       "    <tr style=\"text-align: right;\">\n",
       "      <th></th>\n",
       "      <th>F1 Score(obscene)</th>\n",
       "    </tr>\n",
       "  </thead>\n",
       "  <tbody>\n",
       "    <tr>\n",
       "      <th>SVM</th>\n",
       "      <td>0.910186</td>\n",
       "    </tr>\n",
       "  </tbody>\n",
       "</table>\n",
       "</div>"
      ],
      "text/plain": [
       "     F1 Score(obscene)\n",
       "SVM           0.910186"
      ]
     },
     "execution_count": 23,
     "metadata": {},
     "output_type": "execute_result"
    }
   ],
   "source": [
    "obscene_comment_cv = cv_tf_train_test(Obscene_comment_balanced,'obscene', TfidfVectorizer, (1,1))\n",
    "obscene_comment_cv.rename(columns={'F1 Score': 'F1 Score(obscene)'}, inplace = True)\n",
    "obscene_comment_cv"
   ]
  },
  {
   "cell_type": "code",
   "execution_count": 24,
   "metadata": {},
   "outputs": [
    {
     "name": "stderr",
     "output_type": "stream",
     "text": [
      "d:\\PMLT\\Miniconda3\\Lib\\site-packages\\sklearn\\svm\\_classes.py:31: FutureWarning: The default value of `dual` will change from `True` to `'auto'` in 1.5. Set the value of `dual` explicitly to suppress the warning.\n",
      "  warnings.warn(\n"
     ]
    },
    {
     "data": {
      "text/html": [
       "<div>\n",
       "<style scoped>\n",
       "    .dataframe tbody tr th:only-of-type {\n",
       "        vertical-align: middle;\n",
       "    }\n",
       "\n",
       "    .dataframe tbody tr th {\n",
       "        vertical-align: top;\n",
       "    }\n",
       "\n",
       "    .dataframe thead th {\n",
       "        text-align: right;\n",
       "    }\n",
       "</style>\n",
       "<table border=\"1\" class=\"dataframe\">\n",
       "  <thead>\n",
       "    <tr style=\"text-align: right;\">\n",
       "      <th></th>\n",
       "      <th>F1 Score(threat)</th>\n",
       "    </tr>\n",
       "  </thead>\n",
       "  <tbody>\n",
       "    <tr>\n",
       "      <th>SVM</th>\n",
       "      <td>0.945652</td>\n",
       "    </tr>\n",
       "  </tbody>\n",
       "</table>\n",
       "</div>"
      ],
      "text/plain": [
       "     F1 Score(threat)\n",
       "SVM          0.945652"
      ]
     },
     "execution_count": 24,
     "metadata": {},
     "output_type": "execute_result"
    }
   ],
   "source": [
    "threat_comment_cv = cv_tf_train_test(Threatening_comment_balanced,'threat', TfidfVectorizer, (1,1))\n",
    "threat_comment_cv.rename(columns={'F1 Score': 'F1 Score(threat)'}, inplace = True)\n",
    "threat_comment_cv"
   ]
  },
  {
   "cell_type": "code",
   "execution_count": 25,
   "metadata": {},
   "outputs": [
    {
     "name": "stderr",
     "output_type": "stream",
     "text": [
      "d:\\PMLT\\Miniconda3\\Lib\\site-packages\\sklearn\\svm\\_classes.py:31: FutureWarning: The default value of `dual` will change from `True` to `'auto'` in 1.5. Set the value of `dual` explicitly to suppress the warning.\n",
      "  warnings.warn(\n"
     ]
    },
    {
     "data": {
      "text/html": [
       "<div>\n",
       "<style scoped>\n",
       "    .dataframe tbody tr th:only-of-type {\n",
       "        vertical-align: middle;\n",
       "    }\n",
       "\n",
       "    .dataframe tbody tr th {\n",
       "        vertical-align: top;\n",
       "    }\n",
       "\n",
       "    .dataframe thead th {\n",
       "        text-align: right;\n",
       "    }\n",
       "</style>\n",
       "<table border=\"1\" class=\"dataframe\">\n",
       "  <thead>\n",
       "    <tr style=\"text-align: right;\">\n",
       "      <th></th>\n",
       "      <th>F1 Score(insult)</th>\n",
       "    </tr>\n",
       "  </thead>\n",
       "  <tbody>\n",
       "    <tr>\n",
       "      <th>SVM</th>\n",
       "      <td>0.907606</td>\n",
       "    </tr>\n",
       "  </tbody>\n",
       "</table>\n",
       "</div>"
      ],
      "text/plain": [
       "     F1 Score(insult)\n",
       "SVM          0.907606"
      ]
     },
     "execution_count": 25,
     "metadata": {},
     "output_type": "execute_result"
    }
   ],
   "source": [
    "insult_comment_cv = cv_tf_train_test(Insulting_comment_balanced,'insult', TfidfVectorizer, (1,1))\n",
    "insult_comment_cv.rename(columns={'F1 Score': 'F1 Score(insult)'}, inplace = True)\n",
    "insult_comment_cv"
   ]
  },
  {
   "cell_type": "code",
   "execution_count": 26,
   "metadata": {},
   "outputs": [
    {
     "name": "stderr",
     "output_type": "stream",
     "text": [
      "d:\\PMLT\\Miniconda3\\Lib\\site-packages\\sklearn\\svm\\_classes.py:31: FutureWarning: The default value of `dual` will change from `True` to `'auto'` in 1.5. Set the value of `dual` explicitly to suppress the warning.\n",
      "  warnings.warn(\n"
     ]
    },
    {
     "data": {
      "text/html": [
       "<div>\n",
       "<style scoped>\n",
       "    .dataframe tbody tr th:only-of-type {\n",
       "        vertical-align: middle;\n",
       "    }\n",
       "\n",
       "    .dataframe tbody tr th {\n",
       "        vertical-align: top;\n",
       "    }\n",
       "\n",
       "    .dataframe thead th {\n",
       "        text-align: right;\n",
       "    }\n",
       "</style>\n",
       "<table border=\"1\" class=\"dataframe\">\n",
       "  <thead>\n",
       "    <tr style=\"text-align: right;\">\n",
       "      <th></th>\n",
       "      <th>F1 Score(identity_hate)</th>\n",
       "    </tr>\n",
       "  </thead>\n",
       "  <tbody>\n",
       "    <tr>\n",
       "      <th>SVM</th>\n",
       "      <td>0.910092</td>\n",
       "    </tr>\n",
       "  </tbody>\n",
       "</table>\n",
       "</div>"
      ],
      "text/plain": [
       "     F1 Score(identity_hate)\n",
       "SVM                 0.910092"
      ]
     },
     "execution_count": 26,
     "metadata": {},
     "output_type": "execute_result"
    }
   ],
   "source": [
    "identity_hate_comment_cv = cv_tf_train_test(IdentityHate_comment_balanced,'identity_hate', TfidfVectorizer, (1,1))\n",
    "identity_hate_comment_cv.rename(columns={'F1 Score': 'F1 Score(identity_hate)'}, inplace = True)\n",
    "identity_hate_comment_cv"
   ]
  },
  {
   "cell_type": "code",
   "execution_count": 27,
   "metadata": {},
   "outputs": [
    {
     "name": "stdout",
     "output_type": "stream",
     "text": [
      "0         explanation why the edits made under my userna...\n",
      "1         daww he matches this background colour i am se...\n",
      "2         hey man i am really not trying to edit war it ...\n",
      "3         more i cannot make any real suggestions on imp...\n",
      "4         you sir are my hero any chance you remember wh...\n",
      "                                ...                        \n",
      "159566    and for the second time of asking when your vi...\n",
      "159567    you should be ashamed of yourself that is a ho...\n",
      "159568    spitzer umm theres no actual article for prost...\n",
      "159569    and it looks like it was actually you who put ...\n",
      "159570    and i really do not think you understand i cam...\n",
      "Name: comment_text, Length: 159571, dtype: object\n",
      "        toxic  severe_toxic  obscene  threat  insult  identity_hate\n",
      "0           0             0        0       0       0              0\n",
      "1           0             0        0       0       0              0\n",
      "2           0             0        0       0       0              0\n",
      "3           0             0        0       0       0              0\n",
      "4           0             0        0       0       0              0\n",
      "...       ...           ...      ...     ...     ...            ...\n",
      "159566      0             0        0       0       0              0\n",
      "159567      0             0        0       0       0              0\n",
      "159568      0             0        0       0       0              0\n",
      "159569      0             0        0       0       0              0\n",
      "159570      0             0        0       0       0              0\n",
      "\n",
      "[159571 rows x 6 columns]\n"
     ]
    }
   ],
   "source": [
    "X = train['comment_text']\n",
    "print(X)\n",
    "y = pd.read_csv('D:\\\\ky4\\\\MachineLearning\\\\MLP\\\\Toxic-comment-classification\\\\clean_data\\\\labels.csv')\n",
    "print(y)"
   ]
  },
  {
   "cell_type": "code",
   "execution_count": 28,
   "metadata": {},
   "outputs": [
    {
     "data": {
      "text/plain": [
       "array(['aa', 'aa talk', 'aa to', ..., 'zzz', 'zzzz', 'zzzzz'],\n",
       "      dtype=object)"
      ]
     },
     "execution_count": 28,
     "metadata": {},
     "output_type": "execute_result"
    }
   ],
   "source": [
    "from sklearn.feature_extraction.text import TfidfVectorizer\n",
    "vec = TfidfVectorizer(ngram_range=(1,2), min_df=3, max_df=0.9, strip_accents='unicode', use_idf=True, smooth_idf=True, sublinear_tf=True)\n",
    "train_doc = vec.fit_transform(X_train)\n",
    "test_doc = vec.transform(X_test)\n",
    "vec.get_feature_names_out()"
   ]
  },
  {
   "cell_type": "code",
   "execution_count": 29,
   "metadata": {},
   "outputs": [
    {
     "data": {
      "text/plain": [
       "'\\nhttps://machinelearningmastery.com/one-vs-rest-and-one-vs-one-for-multi-class-classification/\\nSupport Vector Machines were designed for binary classification and \\ndo not natively support classification tasks with more than two classes.\\n\\nThe SVM is really rigid, a.k.a. relatively high bias, in terms of the function that is learned: \\none line separating two classes from each other. There is simply no way that multiple classes can be learned. \\nThis is why, next to multiclass classification, multilabel classification cannot be performed natively with SVMs.\\n'"
      ]
     },
     "execution_count": 29,
     "metadata": {},
     "output_type": "execute_result"
    }
   ],
   "source": []
  },
  {
   "cell_type": "code",
   "execution_count": 30,
   "metadata": {},
   "outputs": [],
   "source": [
    "# X_train, X_valid, y_train, y_valid = train_test_split(Toxic_comment_balanced.comment_text, Toxic_comment_balanced['toxic'], test_size=0.2, random_state= 42)\n",
    "# tfv = TfidfVectorizer(ngram_range= (1,1))\n",
    "# X_train_fit = tfv.fit_transform(X_train)\n",
    "# X_test_fit = tfv.transform(X_test)\n",
    "# svc_model = LinearSVC()\n",
    "# svc_model.fit(X_train_fit, y_train)\n",
    "# svc_model.score(svc_model.fit(X_train_fit, y_train))\n",
    "# print(svc_model.predict(X_test_fit).shape)"
   ]
  },
  {
   "cell_type": "code",
   "execution_count": 31,
   "metadata": {},
   "outputs": [],
   "source": [
    "X_train, X_valid = train_test_split(train, train_size=0.8, random_state=42)\n",
    "tfv = TfidfVectorizer(ngram_range= (1,1))\n",
    "X_train_fit = tfv.fit_transform(X_train['comment_text'])\n",
    "X_valid_fit = tfv.transform(X_valid['comment_text'])\n",
    "X_test_fit = tfv.transform(test['comment_text'])"
   ]
  },
  {
   "cell_type": "code",
   "execution_count": 32,
   "metadata": {},
   "outputs": [],
   "source": [
    "from sklearn.calibration import CalibratedClassifierCV\n",
    "def pr(y_i, y):\n",
    "    p = X_train_fit[y==y_i].sum(0)\n",
    "    return (p+1) / ((y==y_i).sum()+1)\n",
    "\n",
    "def get_mdl(y):\n",
    "    y = y.values\n",
    "    r = np.log(pr(1,y) / pr(0,y))\n",
    "    model = CalibratedClassifierCV(LinearSVC(penalty='l2', dual=False), cv=3)\n",
    "    x_nb = X_train_fit.multiply(r)\n",
    "    return model.fit(x_nb, y), r"
   ]
  },
  {
   "cell_type": "code",
   "execution_count": 33,
   "metadata": {},
   "outputs": [],
   "source": [
    "from sklearn.metrics import roc_auc_score"
   ]
  },
  {
   "cell_type": "code",
   "execution_count": 34,
   "metadata": {},
   "outputs": [],
   "source": [
    "from sklearn.model_selection import train_test_split\n",
    "train, valid = train_test_split(train, train_size=0.8, random_state=42)"
   ]
  },
  {
   "cell_type": "code",
   "execution_count": 35,
   "metadata": {},
   "outputs": [],
   "source": [
    "classes = ['toxic', 'severe_toxic', 'obscene', 'threat', 'insult', 'identity_hate']\n",
    "train_labels = X_train.drop(['id', 'comment_text'], axis = 1)\n",
    "valid_labels = X_valid.drop(['id', 'comment_text'], axis = 1)\n"
   ]
  },
  {
   "cell_type": "code",
   "execution_count": 36,
   "metadata": {},
   "outputs": [
    {
     "name": "stdout",
     "output_type": "stream",
     "text": [
      "toxic\n",
      "0.9742125245982952\n",
      "severe_toxic\n",
      "0.8766394082240262\n",
      "obscene\n",
      "0.9307571655489074\n",
      "threat\n",
      "0.7434680096983546\n",
      "insult\n",
      "0.9475288056535578\n",
      "identity_hate\n",
      "0.8654542479874617\n"
     ]
    }
   ],
   "source": [
    "model = []\n",
    "for i, col in enumerate(classes):\n",
    "    print(col)\n",
    "    model.append(get_mdl(train_labels[col]))\n",
    "    preds= model[i][0].predict_proba(X_valid_fit.multiply(model[i][1]))[:,1].reshape(-1, 1)\n",
    "    print(roc_auc_score(valid_labels, preds))"
   ]
  },
  {
   "cell_type": "code",
   "execution_count": 37,
   "metadata": {},
   "outputs": [
    {
     "name": "stdout",
     "output_type": "stream",
     "text": [
      "toxic\n",
      "severe_toxic\n",
      "obscene\n",
      "threat\n",
      "insult\n",
      "identity_hate\n"
     ]
    }
   ],
   "source": [
    "preds = np.zeros((len(test), len(classes)))\n",
    "\n",
    "for i, col in enumerate(classes):\n",
    "    print(col)\n",
    "    preds[:, i] = model[i][0].predict_proba(X_test_fit.multiply(model[i][1]))[:, 1]"
   ]
  },
  {
   "cell_type": "code",
   "execution_count": 38,
   "metadata": {},
   "outputs": [],
   "source": [
    "submid = pd.DataFrame({'id': submission[\"id\"]})\n",
    "SUB = pd.concat([submid, pd.DataFrame(preds, columns = classes)], axis=1)\n",
    "SUB.to_csv('submission.csv', index=False)\n"
   ]
  },
  {
   "cell_type": "code",
   "execution_count": null,
   "metadata": {},
   "outputs": [],
   "source": []
  }
 ],
 "metadata": {
  "kernelspec": {
   "display_name": "base",
   "language": "python",
   "name": "python3"
  },
  "language_info": {
   "codemirror_mode": {
    "name": "ipython",
    "version": 3
   },
   "file_extension": ".py",
   "mimetype": "text/x-python",
   "name": "python",
   "nbconvert_exporter": "python",
   "pygments_lexer": "ipython3",
   "version": "3.12.1"
  }
 },
 "nbformat": 4,
 "nbformat_minor": 2
}
