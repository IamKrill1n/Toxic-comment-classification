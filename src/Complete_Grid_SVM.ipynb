{
 "cells": [
  {
   "cell_type": "code",
   "execution_count": null,
   "metadata": {},
   "outputs": [],
   "source": [
    "import pandas as pd\n",
    "import numpy as np"
   ]
  },
  {
   "cell_type": "code",
   "execution_count": null,
   "metadata": {},
   "outputs": [],
   "source": []
  },
  {
   "cell_type": "code",
   "execution_count": null,
   "metadata": {},
   "outputs": [],
   "source": [
    "def write_to_file(data, filename):\n",
    "    with open(filename, 'w') as f:\n",
    "        for line in data:\n",
    "            f.write(line + '\\n')\n",
    "\n",
    "def read_from_file(filename):\n",
    "    with open(filename, 'r') as f:\n",
    "        return np.array(f.read().splitlines())"
   ]
  },
  {
   "cell_type": "markdown",
   "metadata": {},
   "source": [
    "# Dataframe original"
   ]
  },
  {
   "cell_type": "code",
   "execution_count": null,
   "metadata": {},
   "outputs": [],
   "source": [
    "train = pd.read_csv(\"D:\\\\ky4\\\\MachineLearning\\\\Project\\\\train.csv\").fillna('')\n",
    "test = pd.read_csv(\"D:\\\\ky4\\\\MachineLearning\\\\Project\\\\test.csv\").fillna('')\n",
    "submission = pd.read_csv(\"D:\\\\ky4\\\\MachineLearning\\\\Project\\\\sample_submission.csv\")"
   ]
  },
  {
   "cell_type": "code",
   "execution_count": null,
   "metadata": {},
   "outputs": [
    {
     "data": {
      "text/plain": [
       "'toxic'"
      ]
     },
     "metadata": {},
     "output_type": "display_data"
    }
   ],
   "source": [
    "y_train_origin = pd.read_csv(\"D:\\\\ky4\\\\MachineLearning\\\\Project\\\\test_labels.csv\")\n",
    "classes = y_train_origin.columns.values[1:]\n",
    "classes[0] "
   ]
  },
  {
   "cell_type": "markdown",
   "metadata": {},
   "source": [
    "# Transform tool\n"
   ]
  },
  {
   "cell_type": "code",
   "execution_count": null,
   "metadata": {},
   "outputs": [],
   "source": [
    "from sklearn.feature_extraction.text import TfidfVectorizer, CountVectorizer\n",
    "def chooseVector(i=1):\n",
    "    if i == 1:\n",
    "        vec = TfidfVectorizer(ngram_range=(1,2), min_df=3, max_df=0.9, strip_accents='unicode', use_idf=True, smooth_idf=True, sublinear_tf=True)\n",
    "    elif i == 2:\n",
    "        vec = CountVectorizer(ngram_range=(1,2), min_df=3, max_df=0.9, max_features=20000, binary=True)\n",
    "    elif i == 3:\n",
    "        vec = CountVectorizer(ngram_range=(1,2), min_df=3, max_df=0.9, max_features=20000, binary=False)\n",
    "    return vec\n",
    "vec = chooseVector(1)\n"
   ]
  },
  {
   "cell_type": "code",
   "execution_count": null,
   "metadata": {},
   "outputs": [],
   "source": [
    "X_train_origin = read_from_file(\"D:\\\\ky4\\\\MachineLearning\\\\MLP\\\\Toxic-comment-classification\\\\clean_data\\\\data_train_cleaned_vanilla.txt\")"
   ]
  },
  {
   "cell_type": "code",
   "execution_count": null,
   "metadata": {},
   "outputs": [],
   "source": [
    "X_test_origin = read_from_file(\"D:\\\\ky4\\\\MachineLearning\\\\MLP\\\\Toxic-comment-classification\\\\clean_data\\\\data_test_cleaned_vanilla.txt\")"
   ]
  },
  {
   "cell_type": "code",
   "execution_count": null,
   "metadata": {},
   "outputs": [],
   "source": [
    "''' You can set data length to run all cells below faster, but the accuracy is not be guaranteed'''\n",
    "train.loc[:, 'comment_text'] = X_train_origin\n",
    "# train = train[:1000]\n",
    "test.loc[:, 'comment_text'] = X_test_origin\n",
    "# test = test[:1000]"
   ]
  },
  {
   "cell_type": "markdown",
   "metadata": {},
   "source": [
    "# Model"
   ]
  },
  {
   "cell_type": "code",
   "execution_count": null,
   "metadata": {},
   "outputs": [],
   "source": [
    "import warnings\n",
    "warnings.simplefilter(action='ignore', category=FutureWarning)"
   ]
  },
  {
   "cell_type": "code",
   "execution_count": null,
   "metadata": {},
   "outputs": [],
   "source": [
    "from sklearn.model_selection import train_test_split\n",
    "from sklearn.svm import LinearSVC\n",
    "from sklearn.model_selection import GridSearchCV\n",
    "from sklearn.calibration import CalibratedClassifierCV"
   ]
  },
  {
   "cell_type": "code",
   "execution_count": null,
   "metadata": {},
   "outputs": [],
   "source": [
    "preds = np.zeros((len(test), len(classes)))\n",
    "best_C_dict = {label:0 for label in [\"toxic\", \"severe_toxic\", \"obscene\", \"threat\", \"insult\", \"identity_hate\"]}\n",
    "def trainGrid (train, num_col, label, vectorizer = vec):\n",
    "    X_train, X_test, y_train, y_test = train_test_split(train, train[label], test_size=0.3, random_state= 50)\n",
    "    \n",
    "    ''' transform '''\n",
    "    X_train_trans = vectorizer.fit_transform(X_train['comment_text'])\n",
    "    X_test_trans = vectorizer.transform(X_test['comment_text'])\n",
    "    y = y_train.values\n",
    "\n",
    "    ''' implement the grid search to find the best parameter for Linear SVC'''\n",
    "    param_grid = {'C': [0.1, 1, 10, 100, 1000],'loss': ['hinge', 'squared_hinge']}\n",
    "    grid = GridSearchCV(LinearSVC(),param_grid,refit = True, cv= 3, verbose=2)\n",
    "    grid.fit(X_train_trans, y)\n",
    "    ''' get the best parameter, add to dictionary to store for each label '''\n",
    "    best_C_dict[label] = grid.best_params_\n",
    "\n",
    "    ''' use those parameter to train model '''\n",
    "\n",
    "    model = CalibratedClassifierCV(LinearSVC('l2', loss = grid.best_params_[\"loss\"],C = grid.best_params_[\"C\"]), cv = 3)\n",
    "    train_trans = vectorizer.transform(train.comment_text)\n",
    "    test_trans = vectorizer.transform(test.comment_text)\n",
    "    fitted_model = model.fit(train_trans, train[label])\n",
    "\n",
    "    ''' store value of prediction to created array '''\n",
    "    preds[:,num_col] = fitted_model.predict_proba(test_trans)[:,1]"
   ]
  },
  {
   "cell_type": "code",
   "execution_count": null,
   "metadata": {},
   "outputs": [],
   "source": [
    "for i, label in enumerate(classes):\n",
    "    print(label)\n",
    "    trainGrid(train, i, label, vec)"
   ]
  },
  {
   "cell_type": "code",
   "execution_count": null,
   "metadata": {},
   "outputs": [],
   "source": [
    "submid = pd.DataFrame({'id': submission[\"id\"]})\n",
    "SUB = pd.concat([submid, pd.DataFrame(preds, columns = classes)], axis=1)\n",
    "SUB.to_csv('submission.csv', index=False)"
   ]
  }
 ],
 "metadata": {
  "language_info": {
   "name": "python"
  }
 },
 "nbformat": 4,
 "nbformat_minor": 2
}
