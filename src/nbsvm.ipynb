{
 "cells": [
  {
   "cell_type": "markdown",
   "metadata": {},
   "source": [
    "## Importing libraries"
   ]
  },
  {
   "cell_type": "code",
   "execution_count": 1,
   "metadata": {},
   "outputs": [],
   "source": [
    "import numpy as np\n",
    "import pandas as pd\n",
    "import os\n",
    "# for dirname, _, filenames in os.walk('/kaggle/input'):\n",
    "    # for filename in filenames:\n",
    "    #     print(os.path.join(dirname, filename))"
   ]
  },
  {
   "cell_type": "code",
   "execution_count": 2,
   "metadata": {},
   "outputs": [
    {
     "name": "stdout",
     "output_type": "stream",
     "text": [
      "Success\n"
     ]
    }
   ],
   "source": [
    "from os import chdir, path, getcwd\n",
    "if getcwd().endswith(\"src\"):\n",
    "    chdir(path.pardir)\n",
    "if path.isfile(\"checkcwd\"):\n",
    "    print(\"Success\")\n",
    "else:\n",
    "    raise Exception(\"Something went wrong. cwd=\" + getcwd())"
   ]
  },
  {
   "cell_type": "code",
   "execution_count": 3,
   "metadata": {},
   "outputs": [],
   "source": [
    "def write_to_file(data, filename):\n",
    "    with open(filename, 'w') as f:\n",
    "        for line in data:\n",
    "            f.write(line + '\\n')\n",
    "\n",
    "def read_from_file(filename):\n",
    "    with open(filename, 'r') as f:\n",
    "        return pd.Series(f.read().splitlines())"
   ]
  },
  {
   "cell_type": "code",
   "execution_count": 4,
   "metadata": {},
   "outputs": [
    {
     "data": {
      "text/plain": [
       "array(['toxic', 'severe_toxic', 'obscene', 'threat', 'insult',\n",
       "       'identity_hate'], dtype=object)"
      ]
     },
     "execution_count": 4,
     "metadata": {},
     "output_type": "execute_result"
    }
   ],
   "source": [
    "y_train = pd.read_csv('clean_data/labels.csv')\n",
    "sample_submission = pd.read_csv('kaggle/input/jigsaw-toxic-comment-classification-challenge/sample_submission.csv.zip')\n",
    "classes = y_train.columns.values\n",
    "classes"
   ]
  },
  {
   "cell_type": "markdown",
   "metadata": {},
   "source": [
    "## TF_IDF"
   ]
  },
  {
   "cell_type": "code",
   "execution_count": 5,
   "metadata": {},
   "outputs": [],
   "source": [
    "from sklearn.feature_extraction.text import TfidfVectorizer\n",
    "# vec = TfidfVectorizer(ngram_range=(1,2), min_df=3, max_df=0.9, strip_accents='unicode', use_idf=True, smooth_idf=True, sublinear_tf=True)"
   ]
  },
  {
   "cell_type": "code",
   "execution_count": 6,
   "metadata": {},
   "outputs": [],
   "source": [
    "word_vectorizer = TfidfVectorizer(\n",
    "    sublinear_tf=True,\n",
    "    strip_accents='unicode',\n",
    "    analyzer='word',\n",
    "    token_pattern=r'\\w{1,}',\n",
    "    stop_words='english',\n",
    "    ngram_range=(1, 1),\n",
    "    max_features=10000)\n",
    "\n",
    "char_vectorizer = TfidfVectorizer(\n",
    "    sublinear_tf=True,\n",
    "    strip_accents='unicode',\n",
    "    analyzer='char',\n",
    "    ngram_range=(2, 6),\n",
    "    max_features=50000)"
   ]
  },
  {
   "cell_type": "markdown",
   "metadata": {},
   "source": [
    "## Define NB-SVM model"
   ]
  },
  {
   "cell_type": "code",
   "execution_count": 7,
   "metadata": {},
   "outputs": [],
   "source": [
    "from sklearn.base import BaseEstimator, ClassifierMixin\n",
    "from sklearn.utils.validation import check_X_y, check_is_fitted\n",
    "from sklearn.linear_model import LogisticRegression\n",
    "from scipy import sparse\n",
    "from sklearn.metrics import roc_auc_score\n",
    "\n",
    "class NbSvmClassifier(BaseEstimator, ClassifierMixin):\n",
    "    def __init__(self, C=1.0, solver = 'lbfgs', dual=False, n_jobs=1):\n",
    "        self.C = C\n",
    "        self.dual = dual\n",
    "        self.solver = solver\n",
    "        self.n_jobs = n_jobs\n",
    "\n",
    "    def predict(self, x):\n",
    "        # Verify that model has been fit\n",
    "        check_is_fitted(self, ['_r', '_clf'])\n",
    "        return self._clf.predict(x.multiply(self._r))\n",
    "\n",
    "    def predict_proba(self, x):\n",
    "        # Verify that model has been fit\n",
    "        check_is_fitted(self, ['_r', '_clf'])\n",
    "        return self._clf.predict_proba(x.multiply(self._r))\n",
    "\n",
    "    def fit(self, x, y):\n",
    "        # Check that X and y have correct shape\n",
    "        y = y.values\n",
    "        x, y = check_X_y(x, y, accept_sparse=True)\n",
    "\n",
    "        def pr(x, y_i, y):\n",
    "            p = x[y==y_i].sum(0)\n",
    "            return (p+1) / ((y==y_i).sum()+1)\n",
    "\n",
    "        self._r = sparse.csr_matrix(np.log(pr(x,1,y) / pr(x,0,y)))\n",
    "        x_nb = x.multiply(self._r)\n",
    "        self._clf = LogisticRegression(solver = self.solver, C=self.C, dual=self.dual, n_jobs=self.n_jobs).fit(x_nb, y)\n",
    "        return self"
   ]
  },
  {
   "cell_type": "code",
   "execution_count": 8,
   "metadata": {},
   "outputs": [
    {
     "name": "stdout",
     "output_type": "stream",
     "text": [
      "D:\\python\\Toxic-comment-classification\\kaggle\\working\n"
     ]
    }
   ],
   "source": []
  },
  {
   "cell_type": "code",
   "execution_count": 9,
   "metadata": {},
   "outputs": [],
   "source": [
    "def submit_from_file(version):\n",
    "    dir = 'clean_data/'\n",
    "    X_train = read_from_file(dir + 'data_train_cleaned_' + version + '.txt')\n",
    "    X_test = read_from_file(dir + 'data_test_cleaned_' + version + '.txt')\n",
    "    full_text = np.concatenate([X_train, X_test])\n",
    "    word_vectorizer.fit(full_text)\n",
    "    train_word_features = word_vectorizer.transform(X_train)\n",
    "    test_word_features = word_vectorizer.transform(X_test)\n",
    "    print(word_vectorizer.get_feature_names_out())\n",
    "    char_vectorizer.fit(full_text)\n",
    "    train_char_features = char_vectorizer.transform(X_train)\n",
    "    test_char_features = char_vectorizer.transform(X_test)\n",
    "    train_doc = sparse.hstack([train_word_features, train_char_features])\n",
    "    test_doc = sparse.hstack([test_word_features, test_char_features])\n",
    "    print(char_vectorizer.get_feature_names_out())\n",
    "    print(train_doc.shape)\n",
    "\n",
    "\n",
    "    from sklearn.model_selection import KFold\n",
    "    num_folds = 10\n",
    "\n",
    "    preds = np.zeros((len(X_test), len(classes)))\n",
    "    oof_predict = np.zeros((len(X_train), len(classes)))\n",
    "    kf = KFold(n_splits=num_folds, shuffle=True, random_state=42)\n",
    "\n",
    "    for train_index, test_index in kf.split(train_doc):\n",
    "        kfold_y_train, kfold_y_test = y_train[train_index], y_train[test_index]\n",
    "        kfold_X_train = train_doc[train_index]\n",
    "\n",
    "        kfold_X_valid = train_doc[test_index]\n",
    "\n",
    "        for i, col in enumerate(classes):\n",
    "            # print(col)\n",
    "            model = NbSvmClassifier(C=4, n_jobs=-1).fit(kfold_X_train, kfold_y_train[:, i])\n",
    "            preds[:, i] += model.predict_proba(test_doc)[:, 1] / num_folds\n",
    "            oof_predict[test_index, i] = model.predict_proba(kfold_X_valid)[:, 1]\n",
    "    \n",
    "    print('Done')\n",
    "        \n",
    "    submid = pd.DataFrame({'id': sample_submission[\"id\"]})\n",
    "    submission = pd.concat([submid, pd.DataFrame(preds, columns = classes)], axis=1)\n",
    "    submission.to_csv('kaggle/working/5_sub.csv', index=False)\n",
    "\n",
    "    train = pd.read_csv('kaggle/input/jigsaw-toxic-comment-classification-challenge/train.csv.zip')\n",
    "\n",
    "    oof = pd.DataFrame.from_dict({'id': train['id']})\n",
    "    for c in classes:   \n",
    "        oof[c] = np.zeros(len(train))\n",
    "\n",
    "    del train\n",
    "    \n",
    "    oof[classes] = oof_predict\n",
    "    oof.to_csv('kaggle/working/' + '5_oof.csv', index=False)\n",
    "\n"
   ]
  },
  {
   "cell_type": "markdown",
   "metadata": {},
   "source": [
    "## Vanilla"
   ]
  },
  {
   "cell_type": "code",
   "execution_count": 10,
   "metadata": {},
   "outputs": [
    {
     "name": "stdout",
     "output_type": "stream",
     "text": [
      "['aa' 'aaaaa' 'aaaaaaaaaaaaaaaa' ... 'zu' 'zuck' 'zuckerberg']\n",
      "[' >' ' > ' ' a' ... 'zzzz' 'zzzzz' 'zzzzzz']\n",
      "(159571, 60000)\n",
      "toxic\n",
      "severe_toxic\n",
      "obscene\n",
      "threat\n",
      "insult\n",
      "identity_hate\n"
     ]
    }
   ],
   "source": [
    "submit_from_file('vanilla2')"
   ]
  },
  {
   "cell_type": "markdown",
   "metadata": {},
   "source": [
    "## Light"
   ]
  },
  {
   "cell_type": "code",
   "execution_count": 11,
   "metadata": {},
   "outputs": [
    {
     "name": "stdout",
     "output_type": "stream",
     "text": [
      "['aa' 'aaaaa' 'aaaaaaaaaaaaaaaa' ... 'zuck' 'zuckerberg' 'zum']\n",
      "[' <' ' >' ' > ' ... 'zzzz' 'zzzzz' 'zzzzzz']\n",
      "(159571, 60000)\n",
      "toxic\n",
      "severe_toxic\n",
      "obscene\n",
      "threat\n",
      "insult\n",
      "identity_hate\n"
     ]
    }
   ],
   "source": [
    "# submit_from_file('light')"
   ]
  },
  {
   "cell_type": "markdown",
   "metadata": {},
   "source": [
    "## Spacy"
   ]
  },
  {
   "cell_type": "code",
   "execution_count": 12,
   "metadata": {},
   "outputs": [],
   "source": [
    "# submit_from_file('spacy')"
   ]
  }
 ],
 "metadata": {
  "kernelspec": {
   "display_name": "base",
   "language": "python",
   "name": "python3"
  },
  "language_info": {
   "codemirror_mode": {
    "name": "ipython",
    "version": 3
   },
   "file_extension": ".py",
   "mimetype": "text/x-python",
   "name": "python",
   "nbconvert_exporter": "python",
   "pygments_lexer": "ipython3",
   "version": "3.12.3"
  }
 },
 "nbformat": 4,
 "nbformat_minor": 2
}
