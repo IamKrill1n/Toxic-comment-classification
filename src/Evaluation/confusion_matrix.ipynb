{
 "cells": [
  {
   "cell_type": "code",
   "execution_count": 2,
   "metadata": {},
   "outputs": [],
   "source": [
    "# quick and dirty way to change the current working directory to root (/toxic-comment-classification)\n",
    "# you should run this at least once just to be certain\n",
    "import os\n",
    "from os import chdir, path, getcwd\n",
    "for i in range(10):\n",
    "    if path.isfile(\"checkcwd\"):\n",
    "        break\n",
    "    chdir(path.pardir)\n",
    "if path.isfile(\"checkcwd\"):\n",
    "    pass\n",
    "else:\n",
    "    raise Exception(\"Something went wrong. cwd=\" + getcwd())\n",
    "root_path = os.getcwd()"
   ]
  },
  {
   "cell_type": "code",
   "execution_count": 3,
   "metadata": {},
   "outputs": [],
   "source": [
    "import numpy as np\n",
    "import pandas as pd\n",
    "from gc import collect\n"
   ]
  },
  {
   "cell_type": "code",
   "execution_count": 4,
   "metadata": {},
   "outputs": [],
   "source": [
    "def read_from_file(filename):\n",
    "    with open(filename, 'r') as f:\n",
    "        return pd.Series(f.read().splitlines())"
   ]
  },
  {
   "cell_type": "code",
   "execution_count": 5,
   "metadata": {},
   "outputs": [],
   "source": [
    "path = 'kaggle/input/'\n",
    "comp = 'jigsaw-toxic-comment-classification-challenge/'\n",
    "\n",
    "clean_data_path = 'clean_data/'\n",
    "EMBEDDING_FILE=f'{path}glove_embeddings/glove.6B.300d.txt'\n",
    "TRAIN_DATA_FILE=f'{path}{comp}train.csv.zip'\n",
    "TEST_DATA_FILE=f'{path}{comp}test.csv.zip'\n",
    "CLEAN_TRAIN_DATA_FILE=f'{clean_data_path}data_train_cleaned_light2.txt'\n",
    "CLEAN_TEST_DATA_FILE=f'{clean_data_path}data_test_cleaned_light2.txt'\n",
    "SAMPLE_SUBMISSION=f'{path}{comp}sample_submission.csv.zip'\n",
    "REAL_LABEL = f'{clean_data_path}labels.csv'\n",
    "PREDICT_PATH = 'kaggle/working/k-fold/'\n",
    "# 2 tốt nhất trong 3\n",
    "# 4 \n",
    "# trong 5,6 thì chọn 6\n",
    "# 7, 8 \n",
    "# 9\n",
    "labels = [\"toxic\", \"severe_toxic\", \"obscene\", \"threat\", \"insult\", \"identity_hate\"]"
   ]
  },
  {
   "cell_type": "code",
   "execution_count": 24,
   "metadata": {},
   "outputs": [
    {
     "data": {
      "text/plain": [
       "(159571,)"
      ]
     },
     "execution_count": 24,
     "metadata": {},
     "output_type": "execute_result"
    }
   ],
   "source": [
    "real = pd.read_csv(REAL_LABEL).values\n"
   ]
  },
  {
   "cell_type": "code",
   "execution_count": 53,
   "metadata": {},
   "outputs": [],
   "source": [
    "def return_predict(file_name ,predict_path = PREDICT_PATH):\n",
    "    \n",
    "    file_path = PREDICT_PATH + file_name\n",
    "    y = pd.read_csv(file_path)\n",
    "    # print(type(y))\n",
    "    y = y.round(0)\n",
    "    # print(type(y))\n",
    "    y = y[labels]\n",
    "    \n",
    "    return y.values\n",
    "y = return_predict(f'{4}_oof.csv')"
   ]
  },
  {
   "cell_type": "code",
   "execution_count": 54,
   "metadata": {},
   "outputs": [],
   "source": [
    "from sklearn.metrics import multilabel_confusion_matrix, roc_curve, auc, roc_auc_score\n"
   ]
  },
  {
   "cell_type": "code",
   "execution_count": 57,
   "metadata": {},
   "outputs": [],
   "source": [
    "def Metrics(predict, real):\n",
    "    indices = [f'Actual{label}' for label in labels]\n",
    "    mcm = multilabel_confusion_matrix(real, predict)\n",
    "    \n",
    "    ''' for each label, we get Precision, Recall, F1 Score '''\n",
    "    for i,cm in enumerate(mcm):\n",
    "        TP, FN, FP, TN = cm[0,0], cm[0,1], cm[1,0], cm[1,1]\n",
    "        Precision = TP/(TP + FP)\n",
    "        Recall = TP/(TP + FN)\n",
    "        F1 = 2*(Precision*Recall)/(Precision + Recall)\n",
    "\n",
    "        # fpr, tpr, thres = roc_curve(real[:,i], predict[:,i])\n",
    "        # print('ads')\n",
    "        # auc = roc_auc_score(real[:,i], predict[:,i])\n",
    "        \n",
    "        # print({'Precision':round(Precision,5), 'Recall':round(Recall,5), 'F1':round(F1,5), 'AUC':round(auc,5)})\n",
    "        print({'Precision':round(Precision,5), 'Recall':round(Recall,5), 'F1':round(F1,5)})"
   ]
  },
  {
   "cell_type": "code",
   "execution_count": 58,
   "metadata": {},
   "outputs": [
    {
     "name": "stdout",
     "output_type": "stream",
     "text": [
      "LSTM\n",
      "{'Precision': 0.97419, 'Recall': 0.98619, 'F1': 0.98015, 'AUC': 0.86984}\n",
      "{'Precision': 0.99204, 'Recall': 0.99846, 'F1': 0.99524, 'AUC': 0.60236}\n",
      "{'Precision': 0.98847, 'Recall': 0.99205, 'F1': 0.99026, 'AUC': 0.89258}\n",
      "{'Precision': 0.99715, 'Recall': 0.99991, 'F1': 0.99853, 'AUC': 0.52506}\n",
      "{'Precision': 0.98464, 'Recall': 0.98858, 'F1': 0.98661, 'AUC': 0.84582}\n",
      "{'Precision': 0.99454, 'Recall': 0.99827, 'F1': 0.9964, 'AUC': 0.6906}\n",
      "\n",
      "hybrid LSTM + GRU + feature\n",
      "{'Precision': 0.9788, 'Recall': 0.9808, 'F1': 0.9798, 'AUC': 0.8902}\n",
      "{'Precision': 0.99388, 'Recall': 0.99666, 'F1': 0.99527, 'AUC': 0.69426}\n",
      "{'Precision': 0.99123, 'Recall': 0.98887, 'F1': 0.99005, 'AUC': 0.9162}\n",
      "{'Precision': 0.99799, 'Recall': 0.99894, 'F1': 0.99847, 'AUC': 0.66474}\n",
      "{'Precision': 0.98811, 'Recall': 0.98422, 'F1': 0.98616, 'AUC': 0.87805}\n",
      "{'Precision': 0.99555, 'Recall': 0.99725, 'F1': 0.9964, 'AUC': 0.74774}\n",
      "\n",
      "NBSVM\n",
      "{'Precision': 0.96682, 'Recall': 0.99033, 'F1': 0.97843, 'AUC': 0.83484}\n",
      "{'Precision': 0.99197, 'Recall': 0.9983, 'F1': 0.99513, 'AUC': 0.59915}\n",
      "{'Precision': 0.98504, 'Recall': 0.99488, 'F1': 0.98994, 'AUC': 0.86234}\n",
      "{'Precision': 0.99766, 'Recall': 0.99953, 'F1': 0.99859, 'AUC': 0.6096}\n",
      "{'Precision': 0.97828, 'Recall': 0.99218, 'F1': 0.98518, 'AUC': 0.78395}\n",
      "{'Precision': 0.99356, 'Recall': 0.99883, 'F1': 0.99619, 'AUC': 0.635}\n",
      "\n",
      "SVM\n",
      "{'Precision': 0.96697, 'Recall': 0.991, 'F1': 0.97884, 'AUC': 0.83583}\n",
      "{'Precision': 0.99181, 'Recall': 0.99851, 'F1': 0.99515, 'AUC': 0.5911}\n",
      "{'Precision': 0.98461, 'Recall': 0.99483, 'F1': 0.98969, 'AUC': 0.85835}\n",
      "{'Precision': 0.99772, 'Recall': 0.99947, 'F1': 0.9986, 'AUC': 0.62003}\n",
      "{'Precision': 0.97799, 'Recall': 0.99265, 'F1': 0.98526, 'AUC': 0.7812}\n",
      "{'Precision': 0.99374, 'Recall': 0.99884, 'F1': 0.99628, 'AUC': 0.64533}\n",
      "\n",
      "Naive Bayes\n",
      "{'Precision': 0.95473, 'Recall': 0.99292, 'F1': 0.97345, 'AUC': 0.77438}\n",
      "{'Precision': 0.99497, 'Recall': 0.99345, 'F1': 0.99421, 'AUC': 0.74782}\n",
      "{'Precision': 0.97688, 'Recall': 0.99518, 'F1': 0.98594, 'AUC': 0.78691}\n",
      "{'Precision': 0.99776, 'Recall': 0.99823, 'F1': 0.99799, 'AUC': 0.62568}\n",
      "{'Precision': 0.97639, 'Recall': 0.99146, 'F1': 0.98386, 'AUC': 0.76487}\n",
      "{'Precision': 0.99325, 'Recall': 0.99674, 'F1': 0.99499, 'AUC': 0.61687}\n",
      "\n",
      "Logistic Regression\n",
      "{'Precision': 0.9839, 'Recall': 0.94755, 'F1': 0.96538, 'AUC': 0.90064}\n",
      "{'Precision': 0.99907, 'Recall': 0.95541, 'F1': 0.97675, 'AUC': 0.93382}\n",
      "{'Precision': 0.99441, 'Recall': 0.96385, 'F1': 0.97889, 'AUC': 0.93346}\n",
      "{'Precision': 0.99926, 'Recall': 0.93698, 'F1': 0.96712, 'AUC': 0.85238}\n",
      "{'Precision': 0.99297, 'Recall': 0.94563, 'F1': 0.96873, 'AUC': 0.90839}\n",
      "{'Precision': 0.99896, 'Recall': 0.93174, 'F1': 0.96418, 'AUC': 0.91142}\n",
      "\n"
     ]
    }
   ],
   "source": [
    "predicts = [return_predict(f'{i}_oof.csv') for i in [2,4,6,7,8,9]]\n",
    "for i in range(len(predicts)):\n",
    "    if (i == 0):\n",
    "        print('LSTM')\n",
    "    elif(i==1):\n",
    "        print('hybrid LSTM + GRU + feature')\n",
    "    elif(i==2):\n",
    "        print('NBSVM')\n",
    "    elif(i==3):\n",
    "        print('SVM')\n",
    "    elif(i==4):\n",
    "        print('Naive Bayes')\n",
    "    else:\n",
    "        print('Logistic Regression')\n",
    "    Metrics(predict=predicts[i], real=real)\n",
    "    print()"
   ]
  },
  {
   "cell_type": "code",
   "execution_count": null,
   "metadata": {},
   "outputs": [],
   "source": [
    ","
   ]
  }
 ],
 "metadata": {
  "kernelspec": {
   "display_name": "base",
   "language": "python",
   "name": "python3"
  },
  "language_info": {
   "codemirror_mode": {
    "name": "ipython",
    "version": 3
   },
   "file_extension": ".py",
   "mimetype": "text/x-python",
   "name": "python",
   "nbconvert_exporter": "python",
   "pygments_lexer": "ipython3",
   "version": "3.12.1"
  }
 },
 "nbformat": 4,
 "nbformat_minor": 2
}
