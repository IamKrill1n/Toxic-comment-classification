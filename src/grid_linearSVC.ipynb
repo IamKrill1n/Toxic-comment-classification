{
 "cells": [
  {
   "cell_type": "code",
   "execution_count": 1,
   "metadata": {},
   "outputs": [],
   "source": [
    "import pandas as pd\n",
    "import numpy as np\n",
    "import re"
   ]
  },
  {
   "cell_type": "code",
   "execution_count": 2,
   "metadata": {},
   "outputs": [],
   "source": [
    "def write_to_file(data, filename):\n",
    "    with open(filename, 'w') as f:\n",
    "        for line in data:\n",
    "            f.write(line + '\\n')\n",
    "\n",
    "def read_from_file(filename):\n",
    "    with open(filename, 'r') as f:\n",
    "        return np.array(f.read().splitlines())"
   ]
  },
  {
   "cell_type": "markdown",
   "metadata": {},
   "source": [
    "# Dataframe Train"
   ]
  },
  {
   "cell_type": "code",
   "execution_count": 3,
   "metadata": {},
   "outputs": [],
   "source": [
    "train = pd.read_csv(\"D:\\\\ky4\\\\MachineLearning\\\\Project\\\\train.csv\").fillna('')\n",
    "test = pd.read_csv(\"D:\\\\ky4\\\\MachineLearning\\\\Project\\\\test.csv\").fillna('')\n",
    "submission = pd.read_csv(\"D:\\\\ky4\\\\MachineLearning\\\\Project\\\\sample_submission.csv\")"
   ]
  },
  {
   "cell_type": "code",
   "execution_count": 4,
   "metadata": {},
   "outputs": [
    {
     "data": {
      "text/plain": [
       "'toxic'"
      ]
     },
     "execution_count": 4,
     "metadata": {},
     "output_type": "execute_result"
    }
   ],
   "source": [
    "y_train_origin = pd.read_csv(\"D:\\\\ky4\\\\MachineLearning\\\\Project\\\\test_labels.csv\")\n",
    "classes = y_train_origin.columns.values[1:]\n",
    "classes[0] "
   ]
  },
  {
   "cell_type": "markdown",
   "metadata": {},
   "source": [
    "# Transform tool\n"
   ]
  },
  {
   "cell_type": "code",
   "execution_count": 5,
   "metadata": {},
   "outputs": [],
   "source": [
    "from sklearn.feature_extraction.text import TfidfVectorizer\n",
    "vec = TfidfVectorizer(ngram_range=(1,2), min_df=3, max_df=0.9, strip_accents='unicode', use_idf=True, smooth_idf=True, sublinear_tf=True)"
   ]
  },
  {
   "cell_type": "code",
   "execution_count": 6,
   "metadata": {},
   "outputs": [],
   "source": [
    "X_train_origin = read_from_file(\"D:\\\\ky4\\\\MachineLearning\\\\MLP\\\\Toxic-comment-classification\\\\clean_data\\\\data_train_cleaned_vanilla.txt\")"
   ]
  },
  {
   "cell_type": "code",
   "execution_count": 7,
   "metadata": {},
   "outputs": [],
   "source": [
    "X_test_origin = read_from_file(\"D:\\\\ky4\\\\MachineLearning\\\\MLP\\\\Toxic-comment-classification\\\\clean_data\\\\data_test_cleaned_vanilla.txt\")"
   ]
  },
  {
   "cell_type": "code",
   "execution_count": 8,
   "metadata": {},
   "outputs": [],
   "source": [
    "train.loc[:, 'comment_text'] = X_train_origin\n",
    "# train = train[:1000]\n",
    "test.loc[:, 'comment_text'] = X_test_origin\n",
    "# test = test[:1000]"
   ]
  },
  {
   "cell_type": "code",
   "execution_count": 9,
   "metadata": {},
   "outputs": [],
   "source": [
    "from sklearn.model_selection import train_test_split\n",
    "# from nltk import ngrams, bigrams, trigrams\n",
    "from sklearn.svm import LinearSVC\n",
    "from sklearn.metrics import f1_score\n",
    "from sklearn.model_selection import GridSearchCV\n",
    "from sklearn.calibration import CalibratedClassifierCV\n"
   ]
  },
  {
   "cell_type": "code",
   "execution_count": 10,
   "metadata": {},
   "outputs": [],
   "source": [
    "import warnings\n",
    "warnings.simplefilter(action='ignore', category=FutureWarning)"
   ]
  },
  {
   "cell_type": "markdown",
   "metadata": {},
   "source": [
    "# Model"
   ]
  },
  {
   "cell_type": "code",
   "execution_count": 16,
   "metadata": {},
   "outputs": [
    {
     "name": "stdout",
     "output_type": "stream",
     "text": [
      "Fitting 3 folds for each of 10 candidates, totalling 30 fits\n",
      "[CV] END ..................................C=0.1, loss=hinge; total time=   0.0s\n",
      "[CV] END ..................................C=0.1, loss=hinge; total time=   0.0s\n",
      "[CV] END ..................................C=0.1, loss=hinge; total time=   0.0s\n",
      "[CV] END ..........................C=0.1, loss=squared_hinge; total time=   0.0s\n",
      "[CV] END ..........................C=0.1, loss=squared_hinge; total time=   0.0s\n",
      "[CV] END ..........................C=0.1, loss=squared_hinge; total time=   0.0s\n",
      "[CV] END ....................................C=1, loss=hinge; total time=   0.0s\n",
      "[CV] END ....................................C=1, loss=hinge; total time=   0.0s\n",
      "[CV] END ....................................C=1, loss=hinge; total time=   0.0s\n",
      "[CV] END ............................C=1, loss=squared_hinge; total time=   0.0s\n",
      "[CV] END ............................C=1, loss=squared_hinge; total time=   0.0s\n",
      "[CV] END ............................C=1, loss=squared_hinge; total time=   0.0s\n",
      "[CV] END ...................................C=10, loss=hinge; total time=   0.0s\n",
      "[CV] END ...................................C=10, loss=hinge; total time=   0.0s\n",
      "[CV] END ...................................C=10, loss=hinge; total time=   0.0s\n",
      "[CV] END ...........................C=10, loss=squared_hinge; total time=   0.0s\n",
      "[CV] END ...........................C=10, loss=squared_hinge; total time=   0.0s\n",
      "[CV] END ...........................C=10, loss=squared_hinge; total time=   0.0s\n",
      "[CV] END ..................................C=100, loss=hinge; total time=   0.0s\n"
     ]
    },
    {
     "name": "stderr",
     "output_type": "stream",
     "text": [
      "d:\\PMLT\\Miniconda3\\Lib\\site-packages\\sklearn\\svm\\_base.py:1237: ConvergenceWarning: Liblinear failed to converge, increase the number of iterations.\n",
      "  warnings.warn(\n",
      "d:\\PMLT\\Miniconda3\\Lib\\site-packages\\sklearn\\svm\\_base.py:1237: ConvergenceWarning: Liblinear failed to converge, increase the number of iterations.\n",
      "  warnings.warn(\n",
      "d:\\PMLT\\Miniconda3\\Lib\\site-packages\\sklearn\\svm\\_base.py:1237: ConvergenceWarning: Liblinear failed to converge, increase the number of iterations.\n",
      "  warnings.warn(\n",
      "d:\\PMLT\\Miniconda3\\Lib\\site-packages\\sklearn\\svm\\_base.py:1237: ConvergenceWarning: Liblinear failed to converge, increase the number of iterations.\n",
      "  warnings.warn(\n"
     ]
    },
    {
     "name": "stdout",
     "output_type": "stream",
     "text": [
      "[CV] END ..................................C=100, loss=hinge; total time=   0.0s\n",
      "[CV] END ..................................C=100, loss=hinge; total time=   0.0s\n",
      "[CV] END ..........................C=100, loss=squared_hinge; total time=   0.0s\n",
      "[CV] END ..........................C=100, loss=squared_hinge; total time=   0.0s\n",
      "[CV] END ..........................C=100, loss=squared_hinge; total time=   0.0s\n",
      "[CV] END .................................C=1000, loss=hinge; total time=   0.0s\n",
      "[CV] END .................................C=1000, loss=hinge; total time=   0.0s\n",
      "[CV] END .................................C=1000, loss=hinge; total time=   0.0s\n",
      "[CV] END .........................C=1000, loss=squared_hinge; total time=   0.0s\n"
     ]
    },
    {
     "name": "stderr",
     "output_type": "stream",
     "text": [
      "d:\\PMLT\\Miniconda3\\Lib\\site-packages\\sklearn\\svm\\_base.py:1237: ConvergenceWarning: Liblinear failed to converge, increase the number of iterations.\n",
      "  warnings.warn(\n",
      "d:\\PMLT\\Miniconda3\\Lib\\site-packages\\sklearn\\svm\\_base.py:1237: ConvergenceWarning: Liblinear failed to converge, increase the number of iterations.\n",
      "  warnings.warn(\n",
      "d:\\PMLT\\Miniconda3\\Lib\\site-packages\\sklearn\\svm\\_base.py:1237: ConvergenceWarning: Liblinear failed to converge, increase the number of iterations.\n",
      "  warnings.warn(\n",
      "d:\\PMLT\\Miniconda3\\Lib\\site-packages\\sklearn\\svm\\_base.py:1237: ConvergenceWarning: Liblinear failed to converge, increase the number of iterations.\n",
      "  warnings.warn(\n",
      "d:\\PMLT\\Miniconda3\\Lib\\site-packages\\sklearn\\svm\\_base.py:1237: ConvergenceWarning: Liblinear failed to converge, increase the number of iterations.\n",
      "  warnings.warn(\n",
      "d:\\PMLT\\Miniconda3\\Lib\\site-packages\\sklearn\\svm\\_base.py:1237: ConvergenceWarning: Liblinear failed to converge, increase the number of iterations.\n",
      "  warnings.warn(\n",
      "d:\\PMLT\\Miniconda3\\Lib\\site-packages\\sklearn\\svm\\_base.py:1237: ConvergenceWarning: Liblinear failed to converge, increase the number of iterations.\n",
      "  warnings.warn(\n"
     ]
    },
    {
     "name": "stdout",
     "output_type": "stream",
     "text": [
      "[CV] END .........................C=1000, loss=squared_hinge; total time=   0.0s\n",
      "[CV] END .........................C=1000, loss=squared_hinge; total time=   0.0s\n",
      "              precision    recall  f1-score   support\n",
      "\n",
      "           0       0.95      0.99      0.97       276\n",
      "           1       0.79      0.46      0.58        24\n",
      "\n",
      "    accuracy                           0.95       300\n",
      "   macro avg       0.87      0.72      0.78       300\n",
      "weighted avg       0.94      0.95      0.94       300\n",
      "\n",
      "[[273   3]\n",
      " [ 13  11]]\n"
     ]
    },
    {
     "name": "stderr",
     "output_type": "stream",
     "text": [
      "d:\\PMLT\\Miniconda3\\Lib\\site-packages\\sklearn\\svm\\_base.py:1237: ConvergenceWarning: Liblinear failed to converge, increase the number of iterations.\n",
      "  warnings.warn(\n"
     ]
    },
    {
     "ename": "ValueError",
     "evalue": "inconsistent shapes",
     "output_type": "error",
     "traceback": [
      "\u001b[1;31m---------------------------------------------------------------------------\u001b[0m",
      "\u001b[1;31mValueError\u001b[0m                                Traceback (most recent call last)",
      "Cell \u001b[1;32mIn[16], line 56\u001b[0m\n\u001b[0;32m     50\u001b[0m     \u001b[38;5;66;03m# test_trans = selector.transform(test_trans)\u001b[39;00m\n\u001b[0;32m     51\u001b[0m     \u001b[38;5;66;03m# print(test_trans.shape)\u001b[39;00m\n\u001b[0;32m     52\u001b[0m     \u001b[38;5;66;03m# print(preds.shape)\u001b[39;00m\n\u001b[0;32m     53\u001b[0m     preds[:,num_col] \u001b[38;5;241m=\u001b[39m fitted_model\u001b[38;5;241m.\u001b[39mpredict_proba(test_trans\u001b[38;5;241m.\u001b[39mmultiply(r))[:,\u001b[38;5;241m1\u001b[39m]\n\u001b[1;32m---> 56\u001b[0m \u001b[43mtrainGrid\u001b[49m\u001b[43m(\u001b[49m\u001b[43mtrain\u001b[49m\u001b[43m,\u001b[49m\u001b[43m \u001b[49m\u001b[38;5;241;43m0\u001b[39;49m\u001b[43m,\u001b[49m\u001b[43m \u001b[49m\u001b[38;5;124;43m'\u001b[39;49m\u001b[38;5;124;43mtoxic\u001b[39;49m\u001b[38;5;124;43m'\u001b[39;49m\u001b[43m,\u001b[49m\u001b[43m \u001b[49m\u001b[43mvec\u001b[49m\u001b[43m)\u001b[49m\n",
      "Cell \u001b[1;32mIn[16], line 48\u001b[0m, in \u001b[0;36mtrainGrid\u001b[1;34m(train, num_col, label, vectorizer)\u001b[0m\n\u001b[0;32m     45\u001b[0m train_trans \u001b[38;5;241m=\u001b[39m vectorizer\u001b[38;5;241m.\u001b[39mtransform(train\u001b[38;5;241m.\u001b[39mcomment_text)\n\u001b[0;32m     46\u001b[0m \u001b[38;5;66;03m# train_trans = selector.fit_transform(train_trans, train[label])\u001b[39;00m\n\u001b[0;32m     47\u001b[0m \u001b[38;5;66;03m# print(train_trans.shape)\u001b[39;00m\n\u001b[1;32m---> 48\u001b[0m fitted_model \u001b[38;5;241m=\u001b[39m model\u001b[38;5;241m.\u001b[39mfit(\u001b[43mtrain_trans\u001b[49m\u001b[38;5;241;43m.\u001b[39;49m\u001b[43mmultiply\u001b[49m\u001b[43m(\u001b[49m\u001b[43mr\u001b[49m\u001b[43m)\u001b[49m, train[label])\n\u001b[0;32m     49\u001b[0m test_trans \u001b[38;5;241m=\u001b[39m vectorizer\u001b[38;5;241m.\u001b[39mtransform(test\u001b[38;5;241m.\u001b[39mcomment_text)\n\u001b[0;32m     50\u001b[0m \u001b[38;5;66;03m# test_trans = selector.transform(test_trans)\u001b[39;00m\n\u001b[0;32m     51\u001b[0m \u001b[38;5;66;03m# print(test_trans.shape)\u001b[39;00m\n\u001b[0;32m     52\u001b[0m \u001b[38;5;66;03m# print(preds.shape)\u001b[39;00m\n",
      "File \u001b[1;32md:\\PMLT\\Miniconda3\\Lib\\site-packages\\scipy\\sparse\\_compressed.py:477\u001b[0m, in \u001b[0;36m_cs_matrix.multiply\u001b[1;34m(self, other)\u001b[0m\n\u001b[0;32m    475\u001b[0m     data \u001b[38;5;241m=\u001b[39m np\u001b[38;5;241m.\u001b[39mmultiply(ret\u001b[38;5;241m.\u001b[39mdata, other[ret\u001b[38;5;241m.\u001b[39mrow]\u001b[38;5;241m.\u001b[39mravel())\n\u001b[0;32m    476\u001b[0m \u001b[38;5;28;01melse\u001b[39;00m:\n\u001b[1;32m--> 477\u001b[0m     \u001b[38;5;28;01mraise\u001b[39;00m \u001b[38;5;167;01mValueError\u001b[39;00m(\u001b[38;5;124m\"\u001b[39m\u001b[38;5;124minconsistent shapes\u001b[39m\u001b[38;5;124m\"\u001b[39m)\n\u001b[0;32m    478\u001b[0m ret\u001b[38;5;241m.\u001b[39mdata \u001b[38;5;241m=\u001b[39m data\u001b[38;5;241m.\u001b[39mview(np\u001b[38;5;241m.\u001b[39mndarray)\u001b[38;5;241m.\u001b[39mravel()\n\u001b[0;32m    479\u001b[0m \u001b[38;5;28;01mreturn\u001b[39;00m ret\n",
      "\u001b[1;31mValueError\u001b[0m: inconsistent shapes"
     ]
    }
   ],
   "source": [
    "from sklearn.metrics import classification_report, confusion_matrix\n",
    "from sklearn.feature_selection import chi2, SelectKBest\n",
    "\n",
    "preds = preds = np.zeros((len(test), len(classes)))\n",
    "\n",
    "def trainGrid (train, num_col, label, vectorizer = vec):\n",
    "    X_train, X_test, y_train, y_test = train_test_split(train, train[label], test_size=0.3, random_state= 50)\n",
    "    \n",
    "    ########### transform\n",
    "    X_train_trans = vectorizer.fit_transform(X_train['comment_text'])\n",
    "    X_test_trans = vectorizer.transform(X_test['comment_text'])\n",
    "\n",
    "    # print(\"Shape:\" + str(X_train_trans.shape[1]))\n",
    "    selector = SelectKBest(chi2, k=int(0.8*X_train_trans.shape[1]))  # Select top 100 features (adjust k as needed)\n",
    "    X_train_trans = selector.fit_transform(X_train_trans, y_train)\n",
    "    # print(\"Shape:\" + str(X_train_trans.shape))\n",
    "    X_test_trans = selector.transform(X_test_trans)\n",
    "    # print(vectorizer.fit_transform(X_test['comment_text']))\n",
    "    # print(vectorizer.transform(X_test['comment_text']).shape)\n",
    "\n",
    "\n",
    "    def pr(y_i, y):\n",
    "        p = X_train_trans[y==y_i].sum(0)\n",
    "        return (p+1) / ((y==y_i).sum()+1)\n",
    "    def get_mdl(y):\n",
    "        y = y.values\n",
    "        r = np.log(pr(1,y) / pr(0,y))\n",
    "        # print(r)\n",
    "        return y,r\n",
    "    \n",
    "    y,r = get_mdl(X_train[label])\n",
    "    x_nb = X_train_trans.multiply(r)\n",
    "    \n",
    "    # param_grid = {'C':[1, 10, 50, 100, 250, 500, 750, 1000]}\n",
    "    param_grid = {\n",
    "        'C': [0.1, 1, 10, 100, 1000],'loss': ['hinge', 'squared_hinge']}\n",
    "    grid = GridSearchCV(LinearSVC(),param_grid,refit = True, cv= 3, verbose=2)\n",
    "    grid.fit(x_nb, y)\n",
    "    # print(X_test_trans.shape)\n",
    "    prediction = grid.predict(X_test_trans.multiply(r))\n",
    "    print(classification_report(y_test,prediction))\n",
    "    print(confusion_matrix(y_test, prediction)) \n",
    "\n",
    "    model = CalibratedClassifierCV(LinearSVC('l2', loss = grid.best_params_[\"loss\"],C = grid.best_params_[\"C\"]), cv = 3)\n",
    "    train_trans = vectorizer.transform(train.comment_text)\n",
    "    train_trans = selector.fit_transform(train_trans, train[label])\n",
    "    # print(train_trans.shape)\n",
    "    fitted_model = model.fit(train_trans.multiply(r), train[label])\n",
    "    test_trans = vectorizer.transform(test.comment_text)\n",
    "    test_trans = selector.transform(test_trans)\n",
    "    # print(test_trans.shape)\n",
    "    # print(preds.shape)\n",
    "    preds[:,num_col] = fitted_model.predict_proba(test_trans.multiply(r))[:,1]\n",
    "\n",
    "\n",
    "trainGrid(train, 0, 'toxic', vec)\n",
    "\n",
    "    "
   ]
  },
  {
   "cell_type": "code",
   "execution_count": null,
   "metadata": {},
   "outputs": [
    {
     "name": "stdout",
     "output_type": "stream",
     "text": [
      "toxic\n",
      "Fitting 3 folds for each of 10 candidates, totalling 30 fits\n",
      "[CV] END ..................................C=0.1, loss=hinge; total time=   0.0s\n",
      "[CV] END ..................................C=0.1, loss=hinge; total time=   0.0s\n",
      "[CV] END ..................................C=0.1, loss=hinge; total time=   0.0s\n",
      "[CV] END ..........................C=0.1, loss=squared_hinge; total time=   0.0s\n",
      "[CV] END ..........................C=0.1, loss=squared_hinge; total time=   0.0s\n",
      "[CV] END ..........................C=0.1, loss=squared_hinge; total time=   0.0s\n",
      "[CV] END ....................................C=1, loss=hinge; total time=   0.0s\n",
      "[CV] END ....................................C=1, loss=hinge; total time=   0.0s\n",
      "[CV] END ....................................C=1, loss=hinge; total time=   0.0s\n",
      "[CV] END ............................C=1, loss=squared_hinge; total time=   0.0s\n",
      "[CV] END ............................C=1, loss=squared_hinge; total time=   0.0s\n",
      "[CV] END ............................C=1, loss=squared_hinge; total time=   0.0s\n"
     ]
    },
    {
     "name": "stderr",
     "output_type": "stream",
     "text": [
      "d:\\PMLT\\Miniconda3\\Lib\\site-packages\\sklearn\\svm\\_base.py:1237: ConvergenceWarning: Liblinear failed to converge, increase the number of iterations.\n",
      "  warnings.warn(\n",
      "d:\\PMLT\\Miniconda3\\Lib\\site-packages\\sklearn\\svm\\_base.py:1237: ConvergenceWarning: Liblinear failed to converge, increase the number of iterations.\n",
      "  warnings.warn(\n"
     ]
    },
    {
     "name": "stdout",
     "output_type": "stream",
     "text": [
      "[CV] END ...................................C=10, loss=hinge; total time=   0.0s\n",
      "[CV] END ...................................C=10, loss=hinge; total time=   0.0s\n",
      "[CV] END ...................................C=10, loss=hinge; total time=   0.0s\n",
      "[CV] END ...........................C=10, loss=squared_hinge; total time=   0.0s\n",
      "[CV] END ...........................C=10, loss=squared_hinge; total time=   0.0s\n",
      "[CV] END ...........................C=10, loss=squared_hinge; total time=   0.0s\n",
      "[CV] END ..................................C=100, loss=hinge; total time=   0.0s\n",
      "[CV] END ..................................C=100, loss=hinge; total time=   0.0s\n"
     ]
    },
    {
     "name": "stderr",
     "output_type": "stream",
     "text": [
      "d:\\PMLT\\Miniconda3\\Lib\\site-packages\\sklearn\\svm\\_base.py:1237: ConvergenceWarning: Liblinear failed to converge, increase the number of iterations.\n",
      "  warnings.warn(\n",
      "d:\\PMLT\\Miniconda3\\Lib\\site-packages\\sklearn\\svm\\_base.py:1237: ConvergenceWarning: Liblinear failed to converge, increase the number of iterations.\n",
      "  warnings.warn(\n",
      "d:\\PMLT\\Miniconda3\\Lib\\site-packages\\sklearn\\svm\\_base.py:1237: ConvergenceWarning: Liblinear failed to converge, increase the number of iterations.\n",
      "  warnings.warn(\n",
      "d:\\PMLT\\Miniconda3\\Lib\\site-packages\\sklearn\\svm\\_base.py:1237: ConvergenceWarning: Liblinear failed to converge, increase the number of iterations.\n",
      "  warnings.warn(\n"
     ]
    },
    {
     "name": "stdout",
     "output_type": "stream",
     "text": [
      "[CV] END ..................................C=100, loss=hinge; total time=   0.0s\n",
      "[CV] END ..........................C=100, loss=squared_hinge; total time=   0.0s\n",
      "[CV] END ..........................C=100, loss=squared_hinge; total time=   0.0s\n",
      "[CV] END ..........................C=100, loss=squared_hinge; total time=   0.0s\n",
      "[CV] END .................................C=1000, loss=hinge; total time=   0.0s\n",
      "[CV] END .................................C=1000, loss=hinge; total time=   0.0s\n",
      "[CV] END .................................C=1000, loss=hinge; total time=   0.0s\n"
     ]
    },
    {
     "name": "stderr",
     "output_type": "stream",
     "text": [
      "d:\\PMLT\\Miniconda3\\Lib\\site-packages\\sklearn\\svm\\_base.py:1237: ConvergenceWarning: Liblinear failed to converge, increase the number of iterations.\n",
      "  warnings.warn(\n",
      "d:\\PMLT\\Miniconda3\\Lib\\site-packages\\sklearn\\svm\\_base.py:1237: ConvergenceWarning: Liblinear failed to converge, increase the number of iterations.\n",
      "  warnings.warn(\n",
      "d:\\PMLT\\Miniconda3\\Lib\\site-packages\\sklearn\\svm\\_base.py:1237: ConvergenceWarning: Liblinear failed to converge, increase the number of iterations.\n",
      "  warnings.warn(\n",
      "d:\\PMLT\\Miniconda3\\Lib\\site-packages\\sklearn\\svm\\_base.py:1237: ConvergenceWarning: Liblinear failed to converge, increase the number of iterations.\n",
      "  warnings.warn(\n",
      "d:\\PMLT\\Miniconda3\\Lib\\site-packages\\sklearn\\svm\\_base.py:1237: ConvergenceWarning: Liblinear failed to converge, increase the number of iterations.\n",
      "  warnings.warn(\n",
      "d:\\PMLT\\Miniconda3\\Lib\\site-packages\\sklearn\\svm\\_base.py:1237: ConvergenceWarning: Liblinear failed to converge, increase the number of iterations.\n",
      "  warnings.warn(\n"
     ]
    },
    {
     "name": "stdout",
     "output_type": "stream",
     "text": [
      "[CV] END .........................C=1000, loss=squared_hinge; total time=   0.0s\n",
      "[CV] END .........................C=1000, loss=squared_hinge; total time=   0.0s\n",
      "[CV] END .........................C=1000, loss=squared_hinge; total time=   0.0s\n",
      "              precision    recall  f1-score   support\n",
      "\n",
      "           0       0.95      0.99      0.97       276\n",
      "           1       0.79      0.46      0.58        24\n",
      "\n",
      "    accuracy                           0.95       300\n",
      "   macro avg       0.87      0.72      0.78       300\n",
      "weighted avg       0.94      0.95      0.94       300\n",
      "\n",
      "[[273   3]\n",
      " [ 13  11]]\n"
     ]
    },
    {
     "name": "stderr",
     "output_type": "stream",
     "text": [
      "d:\\PMLT\\Miniconda3\\Lib\\site-packages\\sklearn\\svm\\_base.py:1237: ConvergenceWarning: Liblinear failed to converge, increase the number of iterations.\n",
      "  warnings.warn(\n",
      "d:\\PMLT\\Miniconda3\\Lib\\site-packages\\sklearn\\svm\\_base.py:1237: ConvergenceWarning: Liblinear failed to converge, increase the number of iterations.\n",
      "  warnings.warn(\n"
     ]
    },
    {
     "name": "stdout",
     "output_type": "stream",
     "text": [
      "severe_toxic\n",
      "Fitting 3 folds for each of 10 candidates, totalling 30 fits\n",
      "[CV] END ..................................C=0.1, loss=hinge; total time=   0.0s\n",
      "[CV] END ..................................C=0.1, loss=hinge; total time=   0.0s\n",
      "[CV] END ..................................C=0.1, loss=hinge; total time=   0.0s\n",
      "[CV] END ..........................C=0.1, loss=squared_hinge; total time=   0.0s\n",
      "[CV] END ..........................C=0.1, loss=squared_hinge; total time=   0.0s\n",
      "[CV] END ..........................C=0.1, loss=squared_hinge; total time=   0.0s\n",
      "[CV] END ....................................C=1, loss=hinge; total time=   0.0s\n",
      "[CV] END ....................................C=1, loss=hinge; total time=   0.0s\n",
      "[CV] END ....................................C=1, loss=hinge; total time=   0.0s\n",
      "[CV] END ............................C=1, loss=squared_hinge; total time=   0.0s\n",
      "[CV] END ............................C=1, loss=squared_hinge; total time=   0.0s\n",
      "[CV] END ............................C=1, loss=squared_hinge; total time=   0.0s\n",
      "[CV] END ...................................C=10, loss=hinge; total time=   0.0s\n",
      "[CV] END ...................................C=10, loss=hinge; total time=   0.0s\n",
      "[CV] END ...................................C=10, loss=hinge; total time=   0.0s\n",
      "[CV] END ...........................C=10, loss=squared_hinge; total time=   0.0s\n",
      "[CV] END ...........................C=10, loss=squared_hinge; total time=   0.0s\n",
      "[CV] END ...........................C=10, loss=squared_hinge; total time=   0.0s\n",
      "[CV] END ..................................C=100, loss=hinge; total time=   0.0s\n",
      "[CV] END ..................................C=100, loss=hinge; total time=   0.0s\n",
      "[CV] END ..................................C=100, loss=hinge; total time=   0.0s\n",
      "[CV] END ..........................C=100, loss=squared_hinge; total time=   0.0s\n",
      "[CV] END ..........................C=100, loss=squared_hinge; total time=   0.0s\n",
      "[CV] END ..........................C=100, loss=squared_hinge; total time=   0.0s\n",
      "[CV] END .................................C=1000, loss=hinge; total time=   0.0s\n",
      "[CV] END .................................C=1000, loss=hinge; total time=   0.0s\n",
      "[CV] END .................................C=1000, loss=hinge; total time=   0.0s\n",
      "[CV] END .........................C=1000, loss=squared_hinge; total time=   0.0s\n",
      "[CV] END .........................C=1000, loss=squared_hinge; total time=   0.0s\n",
      "[CV] END .........................C=1000, loss=squared_hinge; total time=   0.0s\n",
      "              precision    recall  f1-score   support\n",
      "\n",
      "           0       1.00      1.00      1.00       300\n",
      "\n",
      "    accuracy                           1.00       300\n",
      "   macro avg       1.00      1.00      1.00       300\n",
      "weighted avg       1.00      1.00      1.00       300\n",
      "\n",
      "[[300]]\n"
     ]
    },
    {
     "name": "stderr",
     "output_type": "stream",
     "text": [
      "d:\\PMLT\\Miniconda3\\Lib\\site-packages\\sklearn\\metrics\\_classification.py:386: UserWarning: A single label was found in 'y_true' and 'y_pred'. For the confusion matrix to have the correct shape, use the 'labels' parameter to pass all known labels.\n",
      "  warnings.warn(\n"
     ]
    },
    {
     "name": "stdout",
     "output_type": "stream",
     "text": [
      "obscene\n",
      "Fitting 3 folds for each of 10 candidates, totalling 30 fits\n",
      "[CV] END ..................................C=0.1, loss=hinge; total time=   0.0s\n",
      "[CV] END ..................................C=0.1, loss=hinge; total time=   0.0s\n",
      "[CV] END ..................................C=0.1, loss=hinge; total time=   0.0s\n",
      "[CV] END ..........................C=0.1, loss=squared_hinge; total time=   0.0s\n",
      "[CV] END ..........................C=0.1, loss=squared_hinge; total time=   0.0s\n",
      "[CV] END ..........................C=0.1, loss=squared_hinge; total time=   0.0s\n",
      "[CV] END ....................................C=1, loss=hinge; total time=   0.0s\n",
      "[CV] END ....................................C=1, loss=hinge; total time=   0.0s\n",
      "[CV] END ....................................C=1, loss=hinge; total time=   0.0s\n",
      "[CV] END ............................C=1, loss=squared_hinge; total time=   0.0s\n",
      "[CV] END ............................C=1, loss=squared_hinge; total time=   0.0s\n",
      "[CV] END ............................C=1, loss=squared_hinge; total time=   0.0s\n",
      "[CV] END ...................................C=10, loss=hinge; total time=   0.0s\n",
      "[CV] END ...................................C=10, loss=hinge; total time=   0.0s\n",
      "[CV] END ...................................C=10, loss=hinge; total time=   0.0s\n",
      "[CV] END ...........................C=10, loss=squared_hinge; total time=   0.0s\n",
      "[CV] END ...........................C=10, loss=squared_hinge; total time=   0.0s\n",
      "[CV] END ...........................C=10, loss=squared_hinge; total time=   0.0s\n",
      "[CV] END ..................................C=100, loss=hinge; total time=   0.0s\n",
      "[CV] END ..................................C=100, loss=hinge; total time=   0.0s\n",
      "[CV] END ..................................C=100, loss=hinge; total time=   0.0s\n",
      "[CV] END ..........................C=100, loss=squared_hinge; total time=   0.0s\n",
      "[CV] END ..........................C=100, loss=squared_hinge; total time=   0.0s\n",
      "[CV] END ..........................C=100, loss=squared_hinge; total time=   0.0s\n",
      "[CV] END .................................C=1000, loss=hinge; total time=   0.0s\n",
      "[CV] END .................................C=1000, loss=hinge; total time=   0.0s\n",
      "[CV] END .................................C=1000, loss=hinge; total time=   0.0s\n",
      "[CV] END .........................C=1000, loss=squared_hinge; total time=   0.0s\n",
      "[CV] END .........................C=1000, loss=squared_hinge; total time=   0.0s\n"
     ]
    },
    {
     "name": "stderr",
     "output_type": "stream",
     "text": [
      "d:\\PMLT\\Miniconda3\\Lib\\site-packages\\sklearn\\svm\\_base.py:1237: ConvergenceWarning: Liblinear failed to converge, increase the number of iterations.\n",
      "  warnings.warn(\n",
      "d:\\PMLT\\Miniconda3\\Lib\\site-packages\\sklearn\\svm\\_base.py:1237: ConvergenceWarning: Liblinear failed to converge, increase the number of iterations.\n",
      "  warnings.warn(\n",
      "d:\\PMLT\\Miniconda3\\Lib\\site-packages\\sklearn\\svm\\_base.py:1237: ConvergenceWarning: Liblinear failed to converge, increase the number of iterations.\n",
      "  warnings.warn(\n",
      "d:\\PMLT\\Miniconda3\\Lib\\site-packages\\sklearn\\svm\\_base.py:1237: ConvergenceWarning: Liblinear failed to converge, increase the number of iterations.\n",
      "  warnings.warn(\n",
      "d:\\PMLT\\Miniconda3\\Lib\\site-packages\\sklearn\\svm\\_base.py:1237: ConvergenceWarning: Liblinear failed to converge, increase the number of iterations.\n",
      "  warnings.warn(\n",
      "d:\\PMLT\\Miniconda3\\Lib\\site-packages\\sklearn\\svm\\_base.py:1237: ConvergenceWarning: Liblinear failed to converge, increase the number of iterations.\n",
      "  warnings.warn(\n",
      "d:\\PMLT\\Miniconda3\\Lib\\site-packages\\sklearn\\svm\\_base.py:1237: ConvergenceWarning: Liblinear failed to converge, increase the number of iterations.\n",
      "  warnings.warn(\n"
     ]
    },
    {
     "name": "stdout",
     "output_type": "stream",
     "text": [
      "[CV] END .........................C=1000, loss=squared_hinge; total time=   0.0s\n",
      "              precision    recall  f1-score   support\n",
      "\n",
      "           0       0.98      1.00      0.99       290\n",
      "           1       0.83      0.50      0.62        10\n",
      "\n",
      "    accuracy                           0.98       300\n",
      "   macro avg       0.91      0.75      0.81       300\n",
      "weighted avg       0.98      0.98      0.98       300\n",
      "\n",
      "[[289   1]\n",
      " [  5   5]]\n"
     ]
    },
    {
     "name": "stderr",
     "output_type": "stream",
     "text": [
      "d:\\PMLT\\Miniconda3\\Lib\\site-packages\\sklearn\\svm\\_base.py:1237: ConvergenceWarning: Liblinear failed to converge, increase the number of iterations.\n",
      "  warnings.warn(\n",
      "d:\\PMLT\\Miniconda3\\Lib\\site-packages\\sklearn\\svm\\_base.py:1237: ConvergenceWarning: Liblinear failed to converge, increase the number of iterations.\n",
      "  warnings.warn(\n"
     ]
    },
    {
     "name": "stdout",
     "output_type": "stream",
     "text": [
      "threat\n",
      "Fitting 3 folds for each of 10 candidates, totalling 30 fits\n",
      "[CV] END ..................................C=0.1, loss=hinge; total time=   0.0s\n",
      "[CV] END ..................................C=0.1, loss=hinge; total time=   0.0s\n",
      "[CV] END ..................................C=0.1, loss=hinge; total time=   0.0s\n",
      "[CV] END ..........................C=0.1, loss=squared_hinge; total time=   0.0s\n",
      "[CV] END ..........................C=0.1, loss=squared_hinge; total time=   0.0s\n",
      "[CV] END ..........................C=0.1, loss=squared_hinge; total time=   0.0s\n",
      "[CV] END ....................................C=1, loss=hinge; total time=   0.0s\n",
      "[CV] END ....................................C=1, loss=hinge; total time=   0.0s\n",
      "[CV] END ....................................C=1, loss=hinge; total time=   0.0s\n",
      "[CV] END ............................C=1, loss=squared_hinge; total time=   0.0s\n",
      "[CV] END ............................C=1, loss=squared_hinge; total time=   0.0s\n",
      "[CV] END ............................C=1, loss=squared_hinge; total time=   0.0s\n",
      "[CV] END ...................................C=10, loss=hinge; total time=   0.0s\n",
      "[CV] END ...................................C=10, loss=hinge; total time=   0.0s\n",
      "[CV] END ...................................C=10, loss=hinge; total time=   0.0s\n",
      "[CV] END ...........................C=10, loss=squared_hinge; total time=   0.0s\n",
      "[CV] END ...........................C=10, loss=squared_hinge; total time=   0.0s\n",
      "[CV] END ...........................C=10, loss=squared_hinge; total time=   0.0s\n",
      "[CV] END ..................................C=100, loss=hinge; total time=   0.0s\n",
      "[CV] END ..................................C=100, loss=hinge; total time=   0.0s\n",
      "[CV] END ..................................C=100, loss=hinge; total time=   0.0s\n",
      "[CV] END ..........................C=100, loss=squared_hinge; total time=   0.0s\n",
      "[CV] END ..........................C=100, loss=squared_hinge; total time=   0.0s\n",
      "[CV] END ..........................C=100, loss=squared_hinge; total time=   0.0s\n",
      "[CV] END .................................C=1000, loss=hinge; total time=   0.0s\n",
      "[CV] END .................................C=1000, loss=hinge; total time=   0.0s\n",
      "[CV] END .................................C=1000, loss=hinge; total time=   0.0s\n",
      "[CV] END .........................C=1000, loss=squared_hinge; total time=   0.0s\n",
      "[CV] END .........................C=1000, loss=squared_hinge; total time=   0.0s\n",
      "[CV] END .........................C=1000, loss=squared_hinge; total time=   0.0s\n",
      "              precision    recall  f1-score   support\n",
      "\n",
      "           0       1.00      1.00      1.00       300\n",
      "\n",
      "    accuracy                           1.00       300\n",
      "   macro avg       1.00      1.00      1.00       300\n",
      "weighted avg       1.00      1.00      1.00       300\n",
      "\n",
      "[[300]]\n"
     ]
    },
    {
     "name": "stderr",
     "output_type": "stream",
     "text": [
      "d:\\PMLT\\Miniconda3\\Lib\\site-packages\\sklearn\\metrics\\_classification.py:386: UserWarning: A single label was found in 'y_true' and 'y_pred'. For the confusion matrix to have the correct shape, use the 'labels' parameter to pass all known labels.\n",
      "  warnings.warn(\n"
     ]
    },
    {
     "name": "stdout",
     "output_type": "stream",
     "text": [
      "insult\n",
      "Fitting 3 folds for each of 10 candidates, totalling 30 fits\n",
      "[CV] END ..................................C=0.1, loss=hinge; total time=   0.0s\n",
      "[CV] END ..................................C=0.1, loss=hinge; total time=   0.0s\n",
      "[CV] END ..................................C=0.1, loss=hinge; total time=   0.0s\n",
      "[CV] END ..........................C=0.1, loss=squared_hinge; total time=   0.0s\n",
      "[CV] END ..........................C=0.1, loss=squared_hinge; total time=   0.0s\n",
      "[CV] END ..........................C=0.1, loss=squared_hinge; total time=   0.0s\n",
      "[CV] END ....................................C=1, loss=hinge; total time=   0.0s\n",
      "[CV] END ....................................C=1, loss=hinge; total time=   0.0s\n",
      "[CV] END ....................................C=1, loss=hinge; total time=   0.0s\n",
      "[CV] END ............................C=1, loss=squared_hinge; total time=   0.0s\n",
      "[CV] END ............................C=1, loss=squared_hinge; total time=   0.0s\n",
      "[CV] END ............................C=1, loss=squared_hinge; total time=   0.0s\n",
      "[CV] END ...................................C=10, loss=hinge; total time=   0.0s\n",
      "[CV] END ...................................C=10, loss=hinge; total time=   0.0s\n",
      "[CV] END ...................................C=10, loss=hinge; total time=   0.0s\n",
      "[CV] END ...........................C=10, loss=squared_hinge; total time=   0.0s\n",
      "[CV] END ...........................C=10, loss=squared_hinge; total time=   0.0s\n",
      "[CV] END ...........................C=10, loss=squared_hinge; total time=   0.0s\n",
      "[CV] END ..................................C=100, loss=hinge; total time=   0.0s\n",
      "[CV] END ..................................C=100, loss=hinge; total time=   0.0s\n",
      "[CV] END ..................................C=100, loss=hinge; total time=   0.0s\n",
      "[CV] END ..........................C=100, loss=squared_hinge; total time=   0.0s\n",
      "[CV] END ..........................C=100, loss=squared_hinge; total time=   0.0s\n",
      "[CV] END ..........................C=100, loss=squared_hinge; total time=   0.0s\n",
      "[CV] END .................................C=1000, loss=hinge; total time=   0.0s\n",
      "[CV] END .................................C=1000, loss=hinge; total time=   0.0s\n",
      "[CV] END .................................C=1000, loss=hinge; total time=   0.0s\n",
      "[CV] END .........................C=1000, loss=squared_hinge; total time=   0.0s\n",
      "[CV] END .........................C=1000, loss=squared_hinge; total time=   0.0s\n",
      "[CV] END .........................C=1000, loss=squared_hinge; total time=   0.0s\n"
     ]
    },
    {
     "name": "stderr",
     "output_type": "stream",
     "text": [
      "d:\\PMLT\\Miniconda3\\Lib\\site-packages\\sklearn\\svm\\_base.py:1237: ConvergenceWarning: Liblinear failed to converge, increase the number of iterations.\n",
      "  warnings.warn(\n",
      "d:\\PMLT\\Miniconda3\\Lib\\site-packages\\sklearn\\svm\\_base.py:1237: ConvergenceWarning: Liblinear failed to converge, increase the number of iterations.\n",
      "  warnings.warn(\n",
      "d:\\PMLT\\Miniconda3\\Lib\\site-packages\\sklearn\\svm\\_base.py:1237: ConvergenceWarning: Liblinear failed to converge, increase the number of iterations.\n",
      "  warnings.warn(\n",
      "d:\\PMLT\\Miniconda3\\Lib\\site-packages\\sklearn\\svm\\_base.py:1237: ConvergenceWarning: Liblinear failed to converge, increase the number of iterations.\n",
      "  warnings.warn(\n",
      "d:\\PMLT\\Miniconda3\\Lib\\site-packages\\sklearn\\svm\\_base.py:1237: ConvergenceWarning: Liblinear failed to converge, increase the number of iterations.\n",
      "  warnings.warn(\n",
      "d:\\PMLT\\Miniconda3\\Lib\\site-packages\\sklearn\\svm\\_base.py:1237: ConvergenceWarning: Liblinear failed to converge, increase the number of iterations.\n",
      "  warnings.warn(\n",
      "d:\\PMLT\\Miniconda3\\Lib\\site-packages\\sklearn\\svm\\_base.py:1237: ConvergenceWarning: Liblinear failed to converge, increase the number of iterations.\n",
      "  warnings.warn(\n",
      "d:\\PMLT\\Miniconda3\\Lib\\site-packages\\sklearn\\svm\\_base.py:1237: ConvergenceWarning: Liblinear failed to converge, increase the number of iterations.\n",
      "  warnings.warn(\n",
      "d:\\PMLT\\Miniconda3\\Lib\\site-packages\\sklearn\\svm\\_base.py:1237: ConvergenceWarning: Liblinear failed to converge, increase the number of iterations.\n",
      "  warnings.warn(\n"
     ]
    },
    {
     "name": "stdout",
     "output_type": "stream",
     "text": [
      "              precision    recall  f1-score   support\n",
      "\n",
      "           0       0.99      1.00      0.99       288\n",
      "           1       0.89      0.67      0.76        12\n",
      "\n",
      "    accuracy                           0.98       300\n",
      "   macro avg       0.94      0.83      0.88       300\n",
      "weighted avg       0.98      0.98      0.98       300\n",
      "\n",
      "[[287   1]\n",
      " [  4   8]]\n",
      "identity_hate\n",
      "Fitting 3 folds for each of 10 candidates, totalling 30 fits\n",
      "[CV] END ..................................C=0.1, loss=hinge; total time=   0.0s\n",
      "[CV] END ..................................C=0.1, loss=hinge; total time=   0.0s\n",
      "[CV] END ..................................C=0.1, loss=hinge; total time=   0.0s\n",
      "[CV] END ..........................C=0.1, loss=squared_hinge; total time=   0.0s\n",
      "[CV] END ..........................C=0.1, loss=squared_hinge; total time=   0.0s\n",
      "[CV] END ..........................C=0.1, loss=squared_hinge; total time=   0.0s\n",
      "[CV] END ....................................C=1, loss=hinge; total time=   0.0s\n",
      "[CV] END ....................................C=1, loss=hinge; total time=   0.0s\n",
      "[CV] END ....................................C=1, loss=hinge; total time=   0.0s\n",
      "[CV] END ............................C=1, loss=squared_hinge; total time=   0.0s\n",
      "[CV] END ............................C=1, loss=squared_hinge; total time=   0.0s\n",
      "[CV] END ............................C=1, loss=squared_hinge; total time=   0.0s\n",
      "[CV] END ...................................C=10, loss=hinge; total time=   0.0s\n",
      "[CV] END ...................................C=10, loss=hinge; total time=   0.0s\n",
      "[CV] END ...................................C=10, loss=hinge; total time=   0.0s\n",
      "[CV] END ...........................C=10, loss=squared_hinge; total time=   0.0s\n",
      "[CV] END ...........................C=10, loss=squared_hinge; total time=   0.0s\n",
      "[CV] END ...........................C=10, loss=squared_hinge; total time=   0.0s\n",
      "[CV] END ..................................C=100, loss=hinge; total time=   0.0s\n",
      "[CV] END ..................................C=100, loss=hinge; total time=   0.0s\n",
      "[CV] END ..................................C=100, loss=hinge; total time=   0.0s\n",
      "[CV] END ..........................C=100, loss=squared_hinge; total time=   0.0s\n",
      "[CV] END ..........................C=100, loss=squared_hinge; total time=   0.0s\n",
      "[CV] END ..........................C=100, loss=squared_hinge; total time=   0.0s\n",
      "[CV] END .................................C=1000, loss=hinge; total time=   0.0s\n",
      "[CV] END .................................C=1000, loss=hinge; total time=   0.0s\n",
      "[CV] END .................................C=1000, loss=hinge; total time=   0.0s\n",
      "[CV] END .........................C=1000, loss=squared_hinge; total time=   0.0s\n",
      "[CV] END .........................C=1000, loss=squared_hinge; total time=   0.0s\n",
      "[CV] END .........................C=1000, loss=squared_hinge; total time=   0.0s\n",
      "              precision    recall  f1-score   support\n",
      "\n",
      "           0       0.99      1.00      1.00       298\n",
      "           1       0.00      0.00      0.00         2\n",
      "\n",
      "    accuracy                           0.99       300\n",
      "   macro avg       0.50      0.50      0.50       300\n",
      "weighted avg       0.99      0.99      0.99       300\n",
      "\n",
      "[[298   0]\n",
      " [  2   0]]\n"
     ]
    },
    {
     "name": "stderr",
     "output_type": "stream",
     "text": [
      "d:\\PMLT\\Miniconda3\\Lib\\site-packages\\sklearn\\svm\\_base.py:1237: ConvergenceWarning: Liblinear failed to converge, increase the number of iterations.\n",
      "  warnings.warn(\n",
      "d:\\PMLT\\Miniconda3\\Lib\\site-packages\\sklearn\\metrics\\_classification.py:1509: UndefinedMetricWarning: Precision is ill-defined and being set to 0.0 in labels with no predicted samples. Use `zero_division` parameter to control this behavior.\n",
      "  _warn_prf(average, modifier, f\"{metric.capitalize()} is\", len(result))\n",
      "d:\\PMLT\\Miniconda3\\Lib\\site-packages\\sklearn\\metrics\\_classification.py:1509: UndefinedMetricWarning: Precision is ill-defined and being set to 0.0 in labels with no predicted samples. Use `zero_division` parameter to control this behavior.\n",
      "  _warn_prf(average, modifier, f\"{metric.capitalize()} is\", len(result))\n",
      "d:\\PMLT\\Miniconda3\\Lib\\site-packages\\sklearn\\metrics\\_classification.py:1509: UndefinedMetricWarning: Precision is ill-defined and being set to 0.0 in labels with no predicted samples. Use `zero_division` parameter to control this behavior.\n",
      "  _warn_prf(average, modifier, f\"{metric.capitalize()} is\", len(result))\n"
     ]
    }
   ],
   "source": [
    "for i, label in enumerate(classes):\n",
    "    print(label)\n",
    "    trainGrid(train, i, label, vec)\n",
    "\n",
    "\n",
    "    "
   ]
  },
  {
   "cell_type": "code",
   "execution_count": null,
   "metadata": {},
   "outputs": [],
   "source": [
    "submid = pd.DataFrame({'id': submission[\"id\"]})\n",
    "SUB = pd.concat([submid, pd.DataFrame(preds, columns = classes)], axis=1)\n",
    "SUB.to_csv('submission.csv', index=False)"
   ]
  },
  {
   "cell_type": "code",
   "execution_count": null,
   "metadata": {},
   "outputs": [],
   "source": []
  }
 ],
 "metadata": {
  "kernelspec": {
   "display_name": "base",
   "language": "python",
   "name": "python3"
  },
  "language_info": {
   "codemirror_mode": {
    "name": "ipython",
    "version": 3
   },
   "file_extension": ".py",
   "mimetype": "text/x-python",
   "name": "python",
   "nbconvert_exporter": "python",
   "pygments_lexer": "ipython3",
   "version": "3.12.1"
  }
 },
 "nbformat": 4,
 "nbformat_minor": 2
}
