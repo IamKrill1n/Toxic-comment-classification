{
 "cells": [
  {
   "cell_type": "code",
   "execution_count": 2,
   "metadata": {},
   "outputs": [],
   "source": [
    "# quick way to change the current working directory to root (/toxic-comment-classification)\n",
    "# you should run this at least once just to be certain\n",
    "import os\n",
    "from os import chdir, path, getcwd\n",
    "for i in range(10):\n",
    "    if path.isfile(\"checkcwd\"):\n",
    "        break\n",
    "    chdir(path.pardir)\n",
    "if path.isfile(\"checkcwd\"):\n",
    "    pass\n",
    "else:\n",
    "    raise Exception(\"Something went wrong. cwd=\" + getcwd())\n",
    "root_path = os.getcwd()"
   ]
  },
  {
   "cell_type": "code",
   "execution_count": 3,
   "metadata": {},
   "outputs": [],
   "source": [
    "from sklearn.feature_extraction.text import TfidfVectorizer\n",
    "import numpy as np\n",
    "import pandas as pd\n",
    "from scipy import sparse\n",
    "from sklearn.linear_model import LogisticRegression\n",
    "from sklearn.base import BaseEstimator, ClassifierMixin\n",
    "from sklearn.utils.validation import check_X_y, check_is_fitted\n",
    "from gc import collect\n",
    "from joblib import dump"
   ]
  },
  {
   "cell_type": "code",
   "execution_count": 5,
   "metadata": {},
   "outputs": [],
   "source": [
    "def choose_word_char_vec():\n",
    "    \n",
    "    word_vectorizer = TfidfVectorizer(sublinear_tf=True, strip_accents='unicode', analyzer='word', token_pattern=r'\\w{1,}',\n",
    "                                        stop_words='english', ngram_range=(1, 2), max_features=20000,)\n",
    "    char_vectorizer = TfidfVectorizer(sublinear_tf=True, strip_accents='unicode', analyzer='char', ngram_range=(3, 6), max_features=20000,)\n",
    "    return word_vectorizer, char_vectorizer\n",
    "word_vectorizer, char_vectorizer = choose_word_char_vec() \n",
    "    "
   ]
  },
  {
   "cell_type": "code",
   "execution_count": 6,
   "metadata": {},
   "outputs": [],
   "source": [
    "path = 'kaggle/input/'\n",
    "comp = 'jigsaw-toxic-comment-classification-challenge/'\n",
    "clean_data_path = 'clean_data/'\n",
    "EMBEDDING_FILE=f'{path}glove_embeddings/glove.6B.300d.txt'\n",
    "TRAIN_DATA_FILE=f'{path}{comp}train.csv.zip'\n",
    "TEST_DATA_FILE=f'{path}{comp}test.csv.zip'\n",
    "CLEAN_TRAIN_DATA_FILE=f'{clean_data_path}data_train_cleaned_light2.txt'\n",
    "CLEAN_TEST_DATA_FILE=f'{clean_data_path}data_test_cleaned_light2.txt'\n",
    "SAMPLE_SUBMISSION=f'{path}{comp}sample_submission.csv.zip'"
   ]
  },
  {
   "cell_type": "code",
   "execution_count": 7,
   "metadata": {},
   "outputs": [],
   "source": [
    "save_path = 'model_checkpoint/svm/'"
   ]
  },
  {
   "cell_type": "code",
   "execution_count": 8,
   "metadata": {},
   "outputs": [],
   "source": [
    "def read_from_file(filename):\n",
    "    with open(filename, 'r') as f:\n",
    "        return pd.Series(f.read().splitlines())"
   ]
  },
  {
   "cell_type": "code",
   "execution_count": 9,
   "metadata": {},
   "outputs": [],
   "source": [
    "X_train = read_from_file(CLEAN_TRAIN_DATA_FILE)\n",
    "X_test = read_from_file(CLEAN_TEST_DATA_FILE)\n",
    "\n",
    "collect()\n",
    "\n",
    "train_word_features = word_vectorizer.fit_transform(X_train)\n",
    "dump(word_vectorizer, save_path + 'word_vectorizer.bin', compress=True)\n",
    "train_char_features = char_vectorizer.fit_transform(X_train)\n",
    "dump(char_vectorizer, save_path + 'char_vectorizer.bin', compress=True)\n",
    "\n",
    "del X_train\n",
    "collect()\n",
    "\n",
    "X_t = sparse.hstack([train_word_features, train_char_features])\n",
    "\n",
    "del train_word_features\n",
    "del train_char_features\n",
    "collect()\n",
    "\n",
    "test_word_features = word_vectorizer.transform(X_test)\n",
    "test_char_features = char_vectorizer.transform(X_test)\n",
    "\n",
    "del X_test\n",
    "collect()\n",
    "\n",
    "X_te = sparse.hstack([test_word_features, test_char_features])\n",
    "del test_word_features\n",
    "del test_char_features\n",
    "collect()\n",
    "\n",
    "list_classes = [\"toxic\", \"severe_toxic\", \"obscene\", \"threat\", \"insult\", \"identity_hate\"]"
   ]
  },
  {
   "cell_type": "code",
   "execution_count": null,
   "metadata": {},
   "outputs": [],
   "source": [
    "train = pd.read_csv(TRAIN_DATA_FILE)\n",
    "test = pd.read_csv(TEST_DATA_FILE)\n",
    "y = train[list_classes].values\n",
    "train_shape = train.shape[0]\n",
    "test_shape = test.shape[0]"
   ]
  },
  {
   "cell_type": "code",
   "execution_count": null,
   "metadata": {},
   "outputs": [],
   "source": [
    "del train\n",
    "del test\n",
    "collect()"
   ]
  },
  {
   "cell_type": "code",
   "execution_count": null,
   "metadata": {},
   "outputs": [],
   "source": [
    "from sklearn.calibration import CalibratedClassifierCV, LinearSVC\n",
    "\n",
    "\n",
    "collect()\n",
    "predict = np.zeros((test_shape, 6))\n",
    "\n",
    "\n",
    "for i in range(6):\n",
    "    if (i == 0) or (i == 2) or (i == 4) or (i == 5):\n",
    "        model = CalibratedClassifierCV(LinearSVC(penalty='l2', C= 1 , loss='hinge'))\n",
    "    elif (i == 1):\n",
    "        model = CalibratedClassifierCV(LinearSVC(penalty='l2', C= 0.1 , loss='hinge'))\n",
    "    else:\n",
    "        model = CalibratedClassifierCV(LinearSVC(penalty='l2', C= 1 , loss='squared_hinge'))\n",
    "\n",
    "    \n",
    "    model.fit(X_t, y[:, i])\n",
    "    dump(model, save_path + 'svm_1' + str(i) + '.bin', compress=True)\n",
    "    predict[:, i] = model.predict_proba(X_te)[:, 1]\n",
    "    del model\n",
    "    collect()\n",
    "\n"
   ]
  }
 ],
 "metadata": {
  "kernelspec": {
   "display_name": "base",
   "language": "python",
   "name": "python3"
  },
  "language_info": {
   "codemirror_mode": {
    "name": "ipython",
    "version": 3
   },
   "file_extension": ".py",
   "mimetype": "text/x-python",
   "name": "python",
   "nbconvert_exporter": "python",
   "pygments_lexer": "ipython3",
   "version": "3.12.1"
  }
 },
 "nbformat": 4,
 "nbformat_minor": 2
}
