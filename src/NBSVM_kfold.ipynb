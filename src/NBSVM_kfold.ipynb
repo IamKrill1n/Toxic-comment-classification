{
 "cells": [
  {
   "cell_type": "code",
   "execution_count": 2,
   "metadata": {},
   "outputs": [],
   "source": [
    "import pandas as pd\n",
    "import numpy as np\n",
    "import re"
   ]
  },
  {
   "cell_type": "code",
   "execution_count": 3,
   "metadata": {},
   "outputs": [
    {
     "name": "stdout",
     "output_type": "stream",
     "text": [
      "D:\\ky4\\MachineLearning\\MLP\\Toxic-comment-classification\\clean_data\n"
     ]
    },
    {
     "name": "stderr",
     "output_type": "stream",
     "text": [
      "C:\\Users\\Admin\\AppData\\Roaming\\Python\\Python312\\site-packages\\IPython\\core\\magics\\osm.py:417: UserWarning: This is now an optional IPython functionality, setting dhist requires you to install the `pickleshare` library.\n",
      "  self.shell.db['dhist'] = compress_dhist(dhist)[-100:]\n"
     ]
    }
   ],
   "source": [
    "%cd D:\\\\ky4\\\\MachineLearning\\\\MLP\\\\Toxic-comment-classification\\\\clean_data"
   ]
  },
  {
   "cell_type": "code",
   "execution_count": 4,
   "metadata": {},
   "outputs": [],
   "source": [
    "def write_to_file(data, filename):\n",
    "    with open(filename, 'w') as f:\n",
    "        for line in data:\n",
    "            f.write(line + '\\n')\n",
    "\n",
    "def read_from_file(filename):\n",
    "    with open(filename, 'r') as f:\n",
    "        return np.array(f.read().splitlines())"
   ]
  },
  {
   "cell_type": "markdown",
   "metadata": {},
   "source": [
    "# Dataframe Train"
   ]
  },
  {
   "cell_type": "code",
   "execution_count": 5,
   "metadata": {},
   "outputs": [],
   "source": [
    "train = pd.read_csv(\"D:\\\\ky4\\\\MachineLearning\\\\Project\\\\train.csv\").fillna('')\n",
    "test = pd.read_csv(\"D:\\\\ky4\\\\MachineLearning\\\\Project\\\\test.csv\").fillna('')\n",
    "submission = pd.read_csv(\"D:\\\\ky4\\\\MachineLearning\\\\Project\\\\sample_submission.csv\")"
   ]
  },
  {
   "cell_type": "code",
   "execution_count": 6,
   "metadata": {},
   "outputs": [
    {
     "data": {
      "text/plain": [
       "'toxic'"
      ]
     },
     "execution_count": 6,
     "metadata": {},
     "output_type": "execute_result"
    }
   ],
   "source": [
    "y_train_origin = pd.read_csv(\"D:\\\\ky4\\\\MachineLearning\\\\Project\\\\test_labels.csv\")\n",
    "classes = y_train_origin.columns.values[1:]\n",
    "classes[0] "
   ]
  },
  {
   "cell_type": "markdown",
   "metadata": {},
   "source": [
    "# Transform tool\n"
   ]
  },
  {
   "cell_type": "code",
   "execution_count": 7,
   "metadata": {},
   "outputs": [],
   "source": [
    "from sklearn.feature_extraction.text import TfidfVectorizer\n",
    "vec = TfidfVectorizer(ngram_range=(1,2), min_df=3, max_df=0.9, strip_accents='unicode', use_idf=True, smooth_idf=True, sublinear_tf=True)"
   ]
  },
  {
   "cell_type": "code",
   "execution_count": 8,
   "metadata": {},
   "outputs": [],
   "source": [
    "X_train_origin = read_from_file(\"D:\\\\ky4\\\\MachineLearning\\\\MLP\\\\Toxic-comment-classification\\\\clean_data\\\\data_train_cleaned_vanilla.txt\")"
   ]
  },
  {
   "cell_type": "code",
   "execution_count": 9,
   "metadata": {},
   "outputs": [],
   "source": [
    "X_test_origin = read_from_file(\"D:\\\\ky4\\\\MachineLearning\\\\MLP\\\\Toxic-comment-classification\\\\clean_data\\\\data_test_cleaned_vanilla.txt\")"
   ]
  },
  {
   "cell_type": "code",
   "execution_count": 10,
   "metadata": {},
   "outputs": [],
   "source": [
    "train.loc[:, 'comment_text'] = X_train_origin\n",
    "train = train[:1000]\n",
    "test.loc[:, 'comment_text'] = X_test_origin\n",
    "test = test[:1000]"
   ]
  },
  {
   "cell_type": "code",
   "execution_count": 11,
   "metadata": {},
   "outputs": [],
   "source": [
    "X_tr = train['comment_text'].values\n",
    "y = train[classes].values\n",
    "X_te = test['comment_text'].values\n",
    "# X_te_vec = vec.transform(X_te)\n",
    "\n",
    "# code có vẻ lặp nhưng cần thiết\n",
    "train_trans = vec.fit_transform(train.comment_text)\n",
    "test_trans = vec.transform(test.comment_text)"
   ]
  },
  {
   "cell_type": "markdown",
   "metadata": {},
   "source": [
    "# K-fold\n"
   ]
  },
  {
   "cell_type": "code",
   "execution_count": 12,
   "metadata": {},
   "outputs": [],
   "source": [
    "from sklearn.model_selection import KFold\n",
    "num_folds = 10\n",
    "scores = []\n",
    "oof_predict = np.zeros((train.shape[0], 6))\n",
    "\n",
    "predict = np.zeros((test.shape[0], 6))\n",
    "kf = KFold(n_splits=num_folds, shuffle=True, random_state=42)\n"
   ]
  },
  {
   "cell_type": "code",
   "execution_count": 17,
   "metadata": {},
   "outputs": [],
   "source": [
    "from sklearn.calibration import CalibratedClassifierCV, LinearSVC\n",
    "from sklearn.metrics import classification_report, confusion_matrix\n",
    "\n",
    "from sklearn.feature_selection import chi2, SelectKBest\n",
    "from sklearn.model_selection import GridSearchCV\n",
    "\n",
    "def trainGrid (X_train_trans, X_test_trans, y_train, y_test, train_trans, test_trans, num_col, label):\n",
    "    # X_train, X_test, y_train, y_test = train_test_split(train, train[label], test_size=0.3, random_state= 50)\n",
    "\n",
    "    # selector = SelectKBest(chi2, k=int(0.2*X_train_trans.shape[1]))  # Select top 100 features (adjust k as needed)\n",
    "    # X_train_trans = selector.fit_transform(X_train_trans, y_train[:, num_col])\n",
    "    # # print(\"Shape:\" + str(X_train_trans.shape))\n",
    "    # X_test_trans = selector.transform(X_test_trans)\n",
    "\n",
    "    def pr(y_i, y):\n",
    "        p = X_train_trans[y==y_i].sum(0)\n",
    "        return (p+1) / ((y==y_i).sum()+1)\n",
    "    def get_mdl(y):\n",
    "        y = pd.Series(y)\n",
    "        y = y.values\n",
    "        r = np.log(pr(1,y) / pr(0,y))\n",
    "        return y,r\n",
    "    \n",
    "    print(y_train[:, num_col].shape)\n",
    "    y,r = get_mdl(y_train[:, num_col])\n",
    "    x_nb = X_train_trans.multiply(r)\n",
    "    \n",
    "    param_grid = {\n",
    "        'C': [0.1, 1, 10, 100, 1000],'loss': ['hinge', 'squared_hinge']}\n",
    "    grid = GridSearchCV(LinearSVC(),param_grid,refit = True, cv= 3, verbose=2)\n",
    "    grid.fit(x_nb, y)\n",
    "\n",
    "    model = CalibratedClassifierCV(LinearSVC('l2', loss = grid.best_params_[\"loss\"],C = grid.best_params_[\"C\"]), cv = 3)\n",
    "  \n",
    "    # train_trans = selector.fit_transform(train_trans, train[label])\n",
    "\n",
    "    print(train_trans.shape, train[label].shape)\n",
    "\n",
    "    fitted_model = model.fit(train_trans.multiply(r), train[label])\n",
    "    # test_trans = selector.transform(test_trans)\n",
    "\n",
    "\n",
    "    return fitted_model, test_trans, r\n"
   ]
  },
  {
   "cell_type": "code",
   "execution_count": 18,
   "metadata": {},
   "outputs": [
    {
     "name": "stdout",
     "output_type": "stream",
     "text": [
      "(900,)\n",
      "Fitting 3 folds for each of 10 candidates, totalling 30 fits\n",
      "[CV] END ..................................C=0.1, loss=hinge; total time=   0.0s\n",
      "[CV] END ..................................C=0.1, loss=hinge; total time=   0.0s\n",
      "[CV] END ..................................C=0.1, loss=hinge; total time=   0.0s\n",
      "[CV] END ..........................C=0.1, loss=squared_hinge; total time=   0.0s\n",
      "[CV] END ..........................C=0.1, loss=squared_hinge; total time=   0.0s\n",
      "[CV] END ..........................C=0.1, loss=squared_hinge; total time=   0.0s\n",
      "[CV] END ....................................C=1, loss=hinge; total time=   0.0s\n",
      "[CV] END ....................................C=1, loss=hinge; total time=   0.0s\n",
      "[CV] END ....................................C=1, loss=hinge; total time=   0.0s\n",
      "[CV] END ............................C=1, loss=squared_hinge; total time=   0.0s\n",
      "[CV] END ............................C=1, loss=squared_hinge; total time=   0.0s\n",
      "[CV] END ............................C=1, loss=squared_hinge; total time=   0.0s\n",
      "[CV] END ...................................C=10, loss=hinge; total time=   0.0s\n",
      "[CV] END ...................................C=10, loss=hinge; total time=   0.0s\n",
      "[CV] END ...................................C=10, loss=hinge; total time=   0.0s\n",
      "[CV] END ...........................C=10, loss=squared_hinge; total time=   0.0s\n",
      "[CV] END ...........................C=10, loss=squared_hinge; total time=   0.0s\n",
      "[CV] END ...........................C=10, loss=squared_hinge; total time=   0.0s\n"
     ]
    },
    {
     "name": "stderr",
     "output_type": "stream",
     "text": [
      "d:\\PMLT\\Miniconda3\\Lib\\site-packages\\sklearn\\svm\\_classes.py:31: FutureWarning: The default value of `dual` will change from `True` to `'auto'` in 1.5. Set the value of `dual` explicitly to suppress the warning.\n",
      "  warnings.warn(\n",
      "d:\\PMLT\\Miniconda3\\Lib\\site-packages\\sklearn\\svm\\_classes.py:31: FutureWarning: The default value of `dual` will change from `True` to `'auto'` in 1.5. Set the value of `dual` explicitly to suppress the warning.\n",
      "  warnings.warn(\n",
      "d:\\PMLT\\Miniconda3\\Lib\\site-packages\\sklearn\\svm\\_classes.py:31: FutureWarning: The default value of `dual` will change from `True` to `'auto'` in 1.5. Set the value of `dual` explicitly to suppress the warning.\n",
      "  warnings.warn(\n",
      "d:\\PMLT\\Miniconda3\\Lib\\site-packages\\sklearn\\svm\\_classes.py:31: FutureWarning: The default value of `dual` will change from `True` to `'auto'` in 1.5. Set the value of `dual` explicitly to suppress the warning.\n",
      "  warnings.warn(\n",
      "d:\\PMLT\\Miniconda3\\Lib\\site-packages\\sklearn\\svm\\_classes.py:31: FutureWarning: The default value of `dual` will change from `True` to `'auto'` in 1.5. Set the value of `dual` explicitly to suppress the warning.\n",
      "  warnings.warn(\n",
      "d:\\PMLT\\Miniconda3\\Lib\\site-packages\\sklearn\\svm\\_classes.py:31: FutureWarning: The default value of `dual` will change from `True` to `'auto'` in 1.5. Set the value of `dual` explicitly to suppress the warning.\n",
      "  warnings.warn(\n",
      "d:\\PMLT\\Miniconda3\\Lib\\site-packages\\sklearn\\svm\\_classes.py:31: FutureWarning: The default value of `dual` will change from `True` to `'auto'` in 1.5. Set the value of `dual` explicitly to suppress the warning.\n",
      "  warnings.warn(\n",
      "d:\\PMLT\\Miniconda3\\Lib\\site-packages\\sklearn\\svm\\_classes.py:31: FutureWarning: The default value of `dual` will change from `True` to `'auto'` in 1.5. Set the value of `dual` explicitly to suppress the warning.\n",
      "  warnings.warn(\n",
      "d:\\PMLT\\Miniconda3\\Lib\\site-packages\\sklearn\\svm\\_classes.py:31: FutureWarning: The default value of `dual` will change from `True` to `'auto'` in 1.5. Set the value of `dual` explicitly to suppress the warning.\n",
      "  warnings.warn(\n",
      "d:\\PMLT\\Miniconda3\\Lib\\site-packages\\sklearn\\svm\\_classes.py:31: FutureWarning: The default value of `dual` will change from `True` to `'auto'` in 1.5. Set the value of `dual` explicitly to suppress the warning.\n",
      "  warnings.warn(\n",
      "d:\\PMLT\\Miniconda3\\Lib\\site-packages\\sklearn\\svm\\_classes.py:31: FutureWarning: The default value of `dual` will change from `True` to `'auto'` in 1.5. Set the value of `dual` explicitly to suppress the warning.\n",
      "  warnings.warn(\n",
      "d:\\PMLT\\Miniconda3\\Lib\\site-packages\\sklearn\\svm\\_classes.py:31: FutureWarning: The default value of `dual` will change from `True` to `'auto'` in 1.5. Set the value of `dual` explicitly to suppress the warning.\n",
      "  warnings.warn(\n",
      "d:\\PMLT\\Miniconda3\\Lib\\site-packages\\sklearn\\svm\\_classes.py:31: FutureWarning: The default value of `dual` will change from `True` to `'auto'` in 1.5. Set the value of `dual` explicitly to suppress the warning.\n",
      "  warnings.warn(\n",
      "d:\\PMLT\\Miniconda3\\Lib\\site-packages\\sklearn\\svm\\_classes.py:31: FutureWarning: The default value of `dual` will change from `True` to `'auto'` in 1.5. Set the value of `dual` explicitly to suppress the warning.\n",
      "  warnings.warn(\n",
      "d:\\PMLT\\Miniconda3\\Lib\\site-packages\\sklearn\\svm\\_base.py:1237: ConvergenceWarning: Liblinear failed to converge, increase the number of iterations.\n",
      "  warnings.warn(\n",
      "d:\\PMLT\\Miniconda3\\Lib\\site-packages\\sklearn\\svm\\_classes.py:31: FutureWarning: The default value of `dual` will change from `True` to `'auto'` in 1.5. Set the value of `dual` explicitly to suppress the warning.\n",
      "  warnings.warn(\n",
      "d:\\PMLT\\Miniconda3\\Lib\\site-packages\\sklearn\\svm\\_classes.py:31: FutureWarning: The default value of `dual` will change from `True` to `'auto'` in 1.5. Set the value of `dual` explicitly to suppress the warning.\n",
      "  warnings.warn(\n",
      "d:\\PMLT\\Miniconda3\\Lib\\site-packages\\sklearn\\svm\\_classes.py:31: FutureWarning: The default value of `dual` will change from `True` to `'auto'` in 1.5. Set the value of `dual` explicitly to suppress the warning.\n",
      "  warnings.warn(\n",
      "d:\\PMLT\\Miniconda3\\Lib\\site-packages\\sklearn\\svm\\_classes.py:31: FutureWarning: The default value of `dual` will change from `True` to `'auto'` in 1.5. Set the value of `dual` explicitly to suppress the warning.\n",
      "  warnings.warn(\n",
      "d:\\PMLT\\Miniconda3\\Lib\\site-packages\\sklearn\\svm\\_classes.py:31: FutureWarning: The default value of `dual` will change from `True` to `'auto'` in 1.5. Set the value of `dual` explicitly to suppress the warning.\n",
      "  warnings.warn(\n",
      "d:\\PMLT\\Miniconda3\\Lib\\site-packages\\sklearn\\svm\\_classes.py:31: FutureWarning: The default value of `dual` will change from `True` to `'auto'` in 1.5. Set the value of `dual` explicitly to suppress the warning.\n",
      "  warnings.warn(\n"
     ]
    },
    {
     "name": "stdout",
     "output_type": "stream",
     "text": [
      "[CV] END ..................................C=100, loss=hinge; total time=   0.0s\n",
      "[CV] END ..................................C=100, loss=hinge; total time=   0.0s\n",
      "[CV] END ..................................C=100, loss=hinge; total time=   0.0s\n",
      "[CV] END ..........................C=100, loss=squared_hinge; total time=   0.0s\n",
      "[CV] END ..........................C=100, loss=squared_hinge; total time=   0.0s\n"
     ]
    },
    {
     "name": "stderr",
     "output_type": "stream",
     "text": [
      "d:\\PMLT\\Miniconda3\\Lib\\site-packages\\sklearn\\svm\\_base.py:1237: ConvergenceWarning: Liblinear failed to converge, increase the number of iterations.\n",
      "  warnings.warn(\n",
      "d:\\PMLT\\Miniconda3\\Lib\\site-packages\\sklearn\\svm\\_classes.py:31: FutureWarning: The default value of `dual` will change from `True` to `'auto'` in 1.5. Set the value of `dual` explicitly to suppress the warning.\n",
      "  warnings.warn(\n",
      "d:\\PMLT\\Miniconda3\\Lib\\site-packages\\sklearn\\svm\\_classes.py:31: FutureWarning: The default value of `dual` will change from `True` to `'auto'` in 1.5. Set the value of `dual` explicitly to suppress the warning.\n",
      "  warnings.warn(\n",
      "d:\\PMLT\\Miniconda3\\Lib\\site-packages\\sklearn\\svm\\_base.py:1237: ConvergenceWarning: Liblinear failed to converge, increase the number of iterations.\n",
      "  warnings.warn(\n",
      "d:\\PMLT\\Miniconda3\\Lib\\site-packages\\sklearn\\svm\\_classes.py:31: FutureWarning: The default value of `dual` will change from `True` to `'auto'` in 1.5. Set the value of `dual` explicitly to suppress the warning.\n",
      "  warnings.warn(\n",
      "d:\\PMLT\\Miniconda3\\Lib\\site-packages\\sklearn\\svm\\_base.py:1237: ConvergenceWarning: Liblinear failed to converge, increase the number of iterations.\n",
      "  warnings.warn(\n",
      "d:\\PMLT\\Miniconda3\\Lib\\site-packages\\sklearn\\svm\\_classes.py:31: FutureWarning: The default value of `dual` will change from `True` to `'auto'` in 1.5. Set the value of `dual` explicitly to suppress the warning.\n",
      "  warnings.warn(\n",
      "d:\\PMLT\\Miniconda3\\Lib\\site-packages\\sklearn\\svm\\_classes.py:31: FutureWarning: The default value of `dual` will change from `True` to `'auto'` in 1.5. Set the value of `dual` explicitly to suppress the warning.\n",
      "  warnings.warn(\n",
      "d:\\PMLT\\Miniconda3\\Lib\\site-packages\\sklearn\\svm\\_base.py:1237: ConvergenceWarning: Liblinear failed to converge, increase the number of iterations.\n",
      "  warnings.warn(\n",
      "d:\\PMLT\\Miniconda3\\Lib\\site-packages\\sklearn\\svm\\_classes.py:31: FutureWarning: The default value of `dual` will change from `True` to `'auto'` in 1.5. Set the value of `dual` explicitly to suppress the warning.\n",
      "  warnings.warn(\n"
     ]
    },
    {
     "name": "stdout",
     "output_type": "stream",
     "text": [
      "[CV] END ..........................C=100, loss=squared_hinge; total time=   0.0s\n",
      "[CV] END .................................C=1000, loss=hinge; total time=   0.0s\n",
      "[CV] END .................................C=1000, loss=hinge; total time=   0.0s\n",
      "[CV] END .................................C=1000, loss=hinge; total time=   0.0s\n",
      "[CV] END .........................C=1000, loss=squared_hinge; total time=   0.0s\n"
     ]
    },
    {
     "name": "stderr",
     "output_type": "stream",
     "text": [
      "d:\\PMLT\\Miniconda3\\Lib\\site-packages\\sklearn\\svm\\_base.py:1237: ConvergenceWarning: Liblinear failed to converge, increase the number of iterations.\n",
      "  warnings.warn(\n",
      "d:\\PMLT\\Miniconda3\\Lib\\site-packages\\sklearn\\svm\\_classes.py:31: FutureWarning: The default value of `dual` will change from `True` to `'auto'` in 1.5. Set the value of `dual` explicitly to suppress the warning.\n",
      "  warnings.warn(\n",
      "d:\\PMLT\\Miniconda3\\Lib\\site-packages\\sklearn\\svm\\_classes.py:31: FutureWarning: The default value of `dual` will change from `True` to `'auto'` in 1.5. Set the value of `dual` explicitly to suppress the warning.\n",
      "  warnings.warn(\n",
      "d:\\PMLT\\Miniconda3\\Lib\\site-packages\\sklearn\\svm\\_base.py:1237: ConvergenceWarning: Liblinear failed to converge, increase the number of iterations.\n",
      "  warnings.warn(\n",
      "d:\\PMLT\\Miniconda3\\Lib\\site-packages\\sklearn\\svm\\_classes.py:31: FutureWarning: The default value of `dual` will change from `True` to `'auto'` in 1.5. Set the value of `dual` explicitly to suppress the warning.\n",
      "  warnings.warn(\n",
      "d:\\PMLT\\Miniconda3\\Lib\\site-packages\\sklearn\\svm\\_base.py:1237: ConvergenceWarning: Liblinear failed to converge, increase the number of iterations.\n",
      "  warnings.warn(\n",
      "d:\\PMLT\\Miniconda3\\Lib\\site-packages\\sklearn\\svm\\_classes.py:31: FutureWarning: The default value of `dual` will change from `True` to `'auto'` in 1.5. Set the value of `dual` explicitly to suppress the warning.\n",
      "  warnings.warn(\n",
      "d:\\PMLT\\Miniconda3\\Lib\\site-packages\\sklearn\\svm\\_classes.py:31: FutureWarning: The default value of `dual` will change from `True` to `'auto'` in 1.5. Set the value of `dual` explicitly to suppress the warning.\n",
      "  warnings.warn(\n",
      "d:\\PMLT\\Miniconda3\\Lib\\site-packages\\sklearn\\svm\\_base.py:1237: ConvergenceWarning: Liblinear failed to converge, increase the number of iterations.\n",
      "  warnings.warn(\n"
     ]
    },
    {
     "name": "stdout",
     "output_type": "stream",
     "text": [
      "[CV] END .........................C=1000, loss=squared_hinge; total time=   0.0s\n",
      "[CV] END .........................C=1000, loss=squared_hinge; total time=   0.0s\n",
      "(1000, 5085) (1000,)\n"
     ]
    },
    {
     "ename": "ValueError",
     "evalue": "inconsistent shapes",
     "output_type": "error",
     "traceback": [
      "\u001b[1;31m---------------------------------------------------------------------------\u001b[0m",
      "\u001b[1;31mValueError\u001b[0m                                Traceback (most recent call last)",
      "Cell \u001b[1;32mIn[18], line 14\u001b[0m\n\u001b[0;32m     12\u001b[0m \u001b[38;5;66;03m# Train a separate Naive Bayes model for each label\u001b[39;00m\n\u001b[0;32m     13\u001b[0m \u001b[38;5;28;01mfor\u001b[39;00m i, label \u001b[38;5;129;01min\u001b[39;00m \u001b[38;5;28menumerate\u001b[39m(classes):\n\u001b[1;32m---> 14\u001b[0m     model, res_train, r \u001b[38;5;241m=\u001b[39m \u001b[43mtrainGrid\u001b[49m\u001b[43m(\u001b[49m\u001b[43mX_train_trans\u001b[49m\u001b[38;5;241;43m=\u001b[39;49m\u001b[43mkfold_X_train_vec\u001b[49m\u001b[43m,\u001b[49m\u001b[43m \u001b[49m\u001b[43mX_test_trans\u001b[49m\u001b[38;5;241;43m=\u001b[39;49m\u001b[43mkfold_X_valid_vec\u001b[49m\u001b[43m,\u001b[49m\u001b[43m \u001b[49m\u001b[43my_train\u001b[49m\u001b[38;5;241;43m=\u001b[39;49m\u001b[43mkfold_y_train\u001b[49m\u001b[43m,\u001b[49m\u001b[43m \u001b[49m\u001b[43my_test\u001b[49m\u001b[38;5;241;43m=\u001b[39;49m\u001b[43mkfold_y_valid\u001b[49m\u001b[43m,\u001b[49m\u001b[43m \u001b[49m\u001b[43mtrain_trans\u001b[49m\u001b[38;5;241;43m=\u001b[39;49m\u001b[43mtrain_trans\u001b[49m\u001b[43m,\u001b[49m\u001b[43m \u001b[49m\u001b[43mtest_trans\u001b[49m\u001b[38;5;241;43m=\u001b[39;49m\u001b[43mtest_trans\u001b[49m\u001b[43m,\u001b[49m\u001b[43m \u001b[49m\u001b[43mnum_col\u001b[49m\u001b[38;5;241;43m=\u001b[39;49m\u001b[43mi\u001b[49m\u001b[43m,\u001b[49m\u001b[43m \u001b[49m\u001b[43mlabel\u001b[49m\u001b[38;5;241;43m=\u001b[39;49m\u001b[43mlabel\u001b[49m\u001b[43m)\u001b[49m\n\u001b[0;32m     15\u001b[0m     models\u001b[38;5;241m.\u001b[39mappend([model,res_train,r])\n\u001b[0;32m     17\u001b[0m predict \u001b[38;5;241m+\u001b[39m\u001b[38;5;241m=\u001b[39m np\u001b[38;5;241m.\u001b[39marray([model[\u001b[38;5;241m0\u001b[39m]\u001b[38;5;241m.\u001b[39mpredict_proba(model[\u001b[38;5;241m1\u001b[39m]\u001b[38;5;241m.\u001b[39mmultiply(model[\u001b[38;5;241m2\u001b[39m]))[:, \u001b[38;5;241m1\u001b[39m] \u001b[38;5;28;01mfor\u001b[39;00m model \u001b[38;5;129;01min\u001b[39;00m models])\u001b[38;5;241m.\u001b[39mT \u001b[38;5;241m/\u001b[39m num_folds  \n",
      "Cell \u001b[1;32mIn[17], line 39\u001b[0m, in \u001b[0;36mtrainGrid\u001b[1;34m(X_train_trans, X_test_trans, y_train, y_test, train_trans, test_trans, num_col, label)\u001b[0m\n\u001b[0;32m     35\u001b[0m \u001b[38;5;66;03m# train_trans = selector.fit_transform(train_trans, train[label])\u001b[39;00m\n\u001b[0;32m     37\u001b[0m \u001b[38;5;28mprint\u001b[39m(train_trans\u001b[38;5;241m.\u001b[39mshape, train[label]\u001b[38;5;241m.\u001b[39mshape)\n\u001b[1;32m---> 39\u001b[0m fitted_model \u001b[38;5;241m=\u001b[39m model\u001b[38;5;241m.\u001b[39mfit(\u001b[43mtrain_trans\u001b[49m\u001b[38;5;241;43m.\u001b[39;49m\u001b[43mmultiply\u001b[49m\u001b[43m(\u001b[49m\u001b[43mr\u001b[49m\u001b[43m)\u001b[49m, train[label])\n\u001b[0;32m     40\u001b[0m \u001b[38;5;66;03m# test_trans = selector.transform(test_trans)\u001b[39;00m\n\u001b[0;32m     43\u001b[0m \u001b[38;5;28;01mreturn\u001b[39;00m fitted_model, test_trans, r\n",
      "File \u001b[1;32md:\\PMLT\\Miniconda3\\Lib\\site-packages\\scipy\\sparse\\_compressed.py:477\u001b[0m, in \u001b[0;36m_cs_matrix.multiply\u001b[1;34m(self, other)\u001b[0m\n\u001b[0;32m    475\u001b[0m     data \u001b[38;5;241m=\u001b[39m np\u001b[38;5;241m.\u001b[39mmultiply(ret\u001b[38;5;241m.\u001b[39mdata, other[ret\u001b[38;5;241m.\u001b[39mrow]\u001b[38;5;241m.\u001b[39mravel())\n\u001b[0;32m    476\u001b[0m \u001b[38;5;28;01melse\u001b[39;00m:\n\u001b[1;32m--> 477\u001b[0m     \u001b[38;5;28;01mraise\u001b[39;00m \u001b[38;5;167;01mValueError\u001b[39;00m(\u001b[38;5;124m\"\u001b[39m\u001b[38;5;124minconsistent shapes\u001b[39m\u001b[38;5;124m\"\u001b[39m)\n\u001b[0;32m    478\u001b[0m ret\u001b[38;5;241m.\u001b[39mdata \u001b[38;5;241m=\u001b[39m data\u001b[38;5;241m.\u001b[39mview(np\u001b[38;5;241m.\u001b[39mndarray)\u001b[38;5;241m.\u001b[39mravel()\n\u001b[0;32m    479\u001b[0m \u001b[38;5;28;01mreturn\u001b[39;00m ret\n",
      "\u001b[1;31mValueError\u001b[0m: inconsistent shapes"
     ]
    }
   ],
   "source": [
    "for train_index, test_index in kf.split(X_tr):\n",
    "    kfold_X_train, kfold_X_valid = X_tr[train_index], X_tr[test_index]\n",
    "    kfold_y_train, kfold_y_valid = y[train_index], y[test_index]\n",
    "\n",
    "    # Vectorize text data\n",
    "    kfold_X_train_vec = vec.fit_transform(kfold_X_train)\n",
    "    kfold_X_valid_vec = vec.transform(kfold_X_valid)\n",
    "\n",
    "    # Initialize an empty list to store models for each label\n",
    "    models = []\n",
    "    \n",
    "    # Train a separate Naive Bayes model for each label\n",
    "    for i, label in enumerate(classes):\n",
    "        model, res_train, r = trainGrid(X_train_trans=kfold_X_train_vec, X_test_trans=kfold_X_valid_vec, y_train=kfold_y_train, y_test=kfold_y_valid, train_trans=train_trans, test_trans=test_trans, num_col=i, label=label)\n",
    "        models.append([model,res_train,r])\n",
    "\n",
    "    # model predict cái test nhân thêm r thì nó là naive bayes !\n",
    "\n",
    "    predict += np.array([model[0].predict_proba(model[1].multiply(model[2]))[:, 1] for model in models]).T / num_folds  \n",
    "    oof_predict[test_index] = np.array([model[0].predict_proba(kfold_X_valid_vec)[:, 1] for model in models]).T\n"
   ]
  },
  {
   "cell_type": "code",
   "execution_count": null,
   "metadata": {},
   "outputs": [],
   "source": [
    "print(predict[:2,:])\n",
    "print('Done')"
   ]
  },
  {
   "cell_type": "code",
   "execution_count": null,
   "metadata": {},
   "outputs": [],
   "source": []
  }
 ],
 "metadata": {
  "kernelspec": {
   "display_name": "base",
   "language": "python",
   "name": "python3"
  },
  "language_info": {
   "codemirror_mode": {
    "name": "ipython",
    "version": 3
   },
   "file_extension": ".py",
   "mimetype": "text/x-python",
   "name": "python",
   "nbconvert_exporter": "python",
   "pygments_lexer": "ipython3",
   "version": "3.12.1"
  }
 },
 "nbformat": 4,
 "nbformat_minor": 2
}
